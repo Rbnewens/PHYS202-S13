{
 "metadata": {
  "name": "Cheatsheet"
 },
 "nbformat": 3,
 "nbformat_minor": 0,
 "worksheets": [
  {
   "cells": [
    {
     "cell_type": "markdown",
     "metadata": {},
     "source": [
      "Cheatsheet"
     ]
    },
    {
     "cell_type": "code",
     "collapsed": false,
     "input": [
      "from mpl_toolkits.mplot3d import Axes3D\n",
      "from scipy.integrate import quad"
     ],
     "language": "python",
     "metadata": {},
     "outputs": [],
     "prompt_number": 3
    },
    {
     "cell_type": "code",
     "collapsed": false,
     "input": [
      "fig = figure()\n",
      "#numrows, num colums, plot number\n",
      "ax = subplot(111)\n",
      "\n",
      "#scatter\n",
      "plt.plot(nvals, error, linewidth=0, marker='.', color=(.6,0,0,.5))\n",
      "\n",
      "plt.plot(ssdates, ssall, color = 'red', linestyle = '-', linewidth = .5, label = \"Monthly Sunspot Count\")\n",
      "\n",
      "plt.legend(loc = 'best')\n",
      "plt.axis('tight')\n",
      "\n",
      "plt.xlabel(\"$Temperature\\ (K)$\")\n",
      "plt.ylabel(r\"$\\psi_{n=30}(x)$\")"
     ],
     "language": "python",
     "metadata": {},
     "outputs": [
      {
       "ename": "NameError",
       "evalue": "name 'nvals' is not defined",
       "output_type": "pyerr",
       "traceback": [
        "\u001b[1;31m---------------------------------------------------------------------------\u001b[0m\n\u001b[1;31mNameError\u001b[0m                                 Traceback (most recent call last)",
        "\u001b[1;32m<ipython-input-4-4ab2b817391a>\u001b[0m in \u001b[0;36m<module>\u001b[1;34m()\u001b[0m\n\u001b[0;32m      4\u001b[0m \u001b[1;33m\u001b[0m\u001b[0m\n\u001b[0;32m      5\u001b[0m \u001b[1;31m#scatter\u001b[0m\u001b[1;33m\u001b[0m\u001b[1;33m\u001b[0m\u001b[0m\n\u001b[1;32m----> 6\u001b[1;33m \u001b[0mplt\u001b[0m\u001b[1;33m.\u001b[0m\u001b[0mplot\u001b[0m\u001b[1;33m(\u001b[0m\u001b[0mnvals\u001b[0m\u001b[1;33m,\u001b[0m \u001b[0merror\u001b[0m\u001b[1;33m,\u001b[0m \u001b[0mlinewidth\u001b[0m\u001b[1;33m=\u001b[0m\u001b[1;36m0\u001b[0m\u001b[1;33m,\u001b[0m \u001b[0mmarker\u001b[0m\u001b[1;33m=\u001b[0m\u001b[1;34m'.'\u001b[0m\u001b[1;33m,\u001b[0m \u001b[0mcolor\u001b[0m\u001b[1;33m=\u001b[0m\u001b[1;33m(\u001b[0m\u001b[1;36m.6\u001b[0m\u001b[1;33m,\u001b[0m\u001b[1;36m0\u001b[0m\u001b[1;33m,\u001b[0m\u001b[1;36m0\u001b[0m\u001b[1;33m,\u001b[0m\u001b[1;36m.5\u001b[0m\u001b[1;33m)\u001b[0m\u001b[1;33m)\u001b[0m\u001b[1;33m\u001b[0m\u001b[0m\n\u001b[0m\u001b[0;32m      7\u001b[0m \u001b[1;33m\u001b[0m\u001b[0m\n\u001b[0;32m      8\u001b[0m \u001b[0mplt\u001b[0m\u001b[1;33m.\u001b[0m\u001b[0mplot\u001b[0m\u001b[1;33m(\u001b[0m\u001b[0mssdates\u001b[0m\u001b[1;33m,\u001b[0m \u001b[0mssall\u001b[0m\u001b[1;33m,\u001b[0m \u001b[0mcolor\u001b[0m \u001b[1;33m=\u001b[0m \u001b[1;34m'red'\u001b[0m\u001b[1;33m,\u001b[0m \u001b[0mlinestyle\u001b[0m \u001b[1;33m=\u001b[0m \u001b[1;34m'-'\u001b[0m\u001b[1;33m,\u001b[0m \u001b[0mlinewidth\u001b[0m \u001b[1;33m=\u001b[0m \u001b[1;36m.5\u001b[0m\u001b[1;33m,\u001b[0m \u001b[0mlabel\u001b[0m \u001b[1;33m=\u001b[0m \u001b[1;34m\"Monthly Sunspot Count\"\u001b[0m\u001b[1;33m)\u001b[0m\u001b[1;33m\u001b[0m\u001b[0m\n",
        "\u001b[1;31mNameError\u001b[0m: name 'nvals' is not defined"
       ]
      },
      {
       "output_type": "display_data",
       "png": "[encoded data removed]"
      }
     ],
     "prompt_number": 4
    },
    {
     "cell_type": "code",
     "collapsed": false,
     "input": [
      "#psi graph\n",
      "plt.axis([-pi-.3,pi+.3,-1.3,1.3])\n",
      "plt.yticks(np.arange(-1.0,1.01,.5) , np.arange(-1.0,1.01,.5))\n",
      "plt.xticks(np.arange(-pi, pi+.01, pi/2),[ \"$-\\pi$\", \"$-\\pi/2$\", \"0\", \"$\\pi/2$\", \"$\\pi$\"])\n",
      "\n",
      "#reverse the limits\n",
      "xlim(plt.xlim()[1], 0)\n",
      "ylim(plt.ylim()[::-1])\n",
      "\n",
      "ax.annotate('White Dwarfs', xy=(8000,14),  xycenuoords='data',\n",
      "            xytext=(-50, -30), textcoords='offset points',\n",
      "            arrowprops=dict(arrowstyle=\"->\")\n",
      "            )\n",
      "\n",
      "#based on defaults, but tweaked\n",
      "plt.xticks(np.arange(plt.xlim()[0]-1000, -1, -3000))\n",
      "#plt.yticks(np.arange(-5.01, 20, 5), [\"$10^{-5}$\", \"$1$\", \"$10^{5}$\", \"$10^{10}$\", \"$10^{15}$\", \"$10^{20}$\"]) \n",
      "\n",
      "#log scale\n",
      "ax.set_yscale('log')\n",
      "ax.set_xscale('log')"
     ],
     "language": "python",
     "metadata": {},
     "outputs": [
      {
       "ename": "AttributeError",
       "evalue": "Unknown property xycenuoords",
       "output_type": "pyerr",
       "traceback": [
        "\u001b[1;31m---------------------------------------------------------------------------\u001b[0m\n\u001b[1;31mAttributeError\u001b[0m                            Traceback (most recent call last)",
        "\u001b[1;32m<ipython-input-5-4da2f47edbfd>\u001b[0m in \u001b[0;36m<module>\u001b[1;34m()\u001b[0m\n\u001b[0;32m     10\u001b[0m ax.annotate('White Dwarfs', xy=(8000,14),  xycenuoords='data',\n\u001b[0;32m     11\u001b[0m             \u001b[0mxytext\u001b[0m\u001b[1;33m=\u001b[0m\u001b[1;33m(\u001b[0m\u001b[1;33m-\u001b[0m\u001b[1;36m50\u001b[0m\u001b[1;33m,\u001b[0m \u001b[1;33m-\u001b[0m\u001b[1;36m30\u001b[0m\u001b[1;33m)\u001b[0m\u001b[1;33m,\u001b[0m \u001b[0mtextcoords\u001b[0m\u001b[1;33m=\u001b[0m\u001b[1;34m'offset points'\u001b[0m\u001b[1;33m,\u001b[0m\u001b[1;33m\u001b[0m\u001b[0m\n\u001b[1;32m---> 12\u001b[1;33m             \u001b[0marrowprops\u001b[0m\u001b[1;33m=\u001b[0m\u001b[0mdict\u001b[0m\u001b[1;33m(\u001b[0m\u001b[0marrowstyle\u001b[0m\u001b[1;33m=\u001b[0m\u001b[1;34m\"->\"\u001b[0m\u001b[1;33m)\u001b[0m\u001b[1;33m\u001b[0m\u001b[0m\n\u001b[0m\u001b[0;32m     13\u001b[0m             )\n\u001b[0;32m     14\u001b[0m \u001b[1;33m\u001b[0m\u001b[0m\n",
        "\u001b[1;32m/usr/local/lib/python2.7/dist-packages/matplotlib/axes.pyc\u001b[0m in \u001b[0;36mannotate\u001b[1;34m(self, *args, **kwargs)\u001b[0m\n\u001b[0;32m   3441\u001b[0m         \u001b[1;33m.\u001b[0m\u001b[1;33m.\u001b[0m \u001b[0mplot\u001b[0m\u001b[1;33m:\u001b[0m\u001b[1;33m:\u001b[0m \u001b[0mmpl_examples\u001b[0m\u001b[1;33m/\u001b[0m\u001b[0mpylab_examples\u001b[0m\u001b[1;33m/\u001b[0m\u001b[0mannotation_demo2\u001b[0m\u001b[1;33m.\u001b[0m\u001b[0mpy\u001b[0m\u001b[1;33m\u001b[0m\u001b[0m\n\u001b[0;32m   3442\u001b[0m         \"\"\"\n\u001b[1;32m-> 3443\u001b[1;33m         \u001b[0ma\u001b[0m \u001b[1;33m=\u001b[0m \u001b[0mmtext\u001b[0m\u001b[1;33m.\u001b[0m\u001b[0mAnnotation\u001b[0m\u001b[1;33m(\u001b[0m\u001b[1;33m*\u001b[0m\u001b[0margs\u001b[0m\u001b[1;33m,\u001b[0m \u001b[1;33m**\u001b[0m\u001b[0mkwargs\u001b[0m\u001b[1;33m)\u001b[0m\u001b[1;33m\u001b[0m\u001b[0m\n\u001b[0m\u001b[0;32m   3444\u001b[0m         \u001b[0ma\u001b[0m\u001b[1;33m.\u001b[0m\u001b[0mset_transform\u001b[0m\u001b[1;33m(\u001b[0m\u001b[0mmtransforms\u001b[0m\u001b[1;33m.\u001b[0m\u001b[0mIdentityTransform\u001b[0m\u001b[1;33m(\u001b[0m\u001b[1;33m)\u001b[0m\u001b[1;33m)\u001b[0m\u001b[1;33m\u001b[0m\u001b[0m\n\u001b[0;32m   3445\u001b[0m         \u001b[0mself\u001b[0m\u001b[1;33m.\u001b[0m\u001b[0m_set_artist_props\u001b[0m\u001b[1;33m(\u001b[0m\u001b[0ma\u001b[0m\u001b[1;33m)\u001b[0m\u001b[1;33m\u001b[0m\u001b[0m\n",
        "\u001b[1;32m/usr/local/lib/python2.7/dist-packages/matplotlib/text.pyc\u001b[0m in \u001b[0;36m__init__\u001b[1;34m(self, s, xy, xytext, xycoords, textcoords, arrowprops, annotation_clip, **kwargs)\u001b[0m\n\u001b[0;32m   1801\u001b[0m \u001b[1;33m\u001b[0m\u001b[0m\n\u001b[0;32m   1802\u001b[0m         \u001b[0mx\u001b[0m\u001b[1;33m,\u001b[0m\u001b[0my\u001b[0m \u001b[1;33m=\u001b[0m \u001b[0mself\u001b[0m\u001b[1;33m.\u001b[0m\u001b[0mxytext\u001b[0m\u001b[1;33m\u001b[0m\u001b[0m\n\u001b[1;32m-> 1803\u001b[1;33m         \u001b[0mText\u001b[0m\u001b[1;33m.\u001b[0m\u001b[0m__init__\u001b[0m\u001b[1;33m(\u001b[0m\u001b[0mself\u001b[0m\u001b[1;33m,\u001b[0m \u001b[0mx\u001b[0m\u001b[1;33m,\u001b[0m \u001b[0my\u001b[0m\u001b[1;33m,\u001b[0m \u001b[0ms\u001b[0m\u001b[1;33m,\u001b[0m \u001b[1;33m**\u001b[0m\u001b[0mkwargs\u001b[0m\u001b[1;33m)\u001b[0m\u001b[1;33m\u001b[0m\u001b[0m\n\u001b[0m\u001b[0;32m   1804\u001b[0m \u001b[1;33m\u001b[0m\u001b[0m\n\u001b[0;32m   1805\u001b[0m         \u001b[0mself\u001b[0m\u001b[1;33m.\u001b[0m\u001b[0marrowprops\u001b[0m \u001b[1;33m=\u001b[0m \u001b[0marrowprops\u001b[0m\u001b[1;33m\u001b[0m\u001b[0m\n",
        "\u001b[1;32m/usr/local/lib/python2.7/dist-packages/matplotlib/text.pyc\u001b[0m in \u001b[0;36m__init__\u001b[1;34m(self, x, y, text, color, verticalalignment, horizontalalignment, multialignment, fontproperties, rotation, linespacing, rotation_mode, path_effects, **kwargs)\u001b[0m\n\u001b[0;32m    191\u001b[0m         \u001b[0mself\u001b[0m\u001b[1;33m.\u001b[0m\u001b[0m_linespacing\u001b[0m \u001b[1;33m=\u001b[0m \u001b[0mlinespacing\u001b[0m\u001b[1;33m\u001b[0m\u001b[0m\n\u001b[0;32m    192\u001b[0m         \u001b[0mself\u001b[0m\u001b[1;33m.\u001b[0m\u001b[0mset_rotation_mode\u001b[0m\u001b[1;33m(\u001b[0m\u001b[0mrotation_mode\u001b[0m\u001b[1;33m)\u001b[0m\u001b[1;33m\u001b[0m\u001b[0m\n\u001b[1;32m--> 193\u001b[1;33m         \u001b[0mself\u001b[0m\u001b[1;33m.\u001b[0m\u001b[0mupdate\u001b[0m\u001b[1;33m(\u001b[0m\u001b[0mkwargs\u001b[0m\u001b[1;33m)\u001b[0m\u001b[1;33m\u001b[0m\u001b[0m\n\u001b[0m\u001b[0;32m    194\u001b[0m         \u001b[1;31m#self.set_bbox(dict(pad=0))\u001b[0m\u001b[1;33m\u001b[0m\u001b[1;33m\u001b[0m\u001b[0m\n\u001b[0;32m    195\u001b[0m \u001b[1;33m\u001b[0m\u001b[0m\n",
        "\u001b[1;32m/usr/local/lib/python2.7/dist-packages/matplotlib/artist.pyc\u001b[0m in \u001b[0;36mupdate\u001b[1;34m(self, props)\u001b[0m\n\u001b[0;32m    668\u001b[0m             \u001b[0mfunc\u001b[0m \u001b[1;33m=\u001b[0m \u001b[0mgetattr\u001b[0m\u001b[1;33m(\u001b[0m\u001b[0mself\u001b[0m\u001b[1;33m,\u001b[0m \u001b[1;34m'set_'\u001b[0m \u001b[1;33m+\u001b[0m \u001b[0mk\u001b[0m\u001b[1;33m,\u001b[0m \u001b[0mNone\u001b[0m\u001b[1;33m)\u001b[0m\u001b[1;33m\u001b[0m\u001b[0m\n\u001b[0;32m    669\u001b[0m             \u001b[1;32mif\u001b[0m \u001b[0mfunc\u001b[0m \u001b[1;32mis\u001b[0m \u001b[0mNone\u001b[0m \u001b[1;32mor\u001b[0m \u001b[1;32mnot\u001b[0m \u001b[0mcallable\u001b[0m\u001b[1;33m(\u001b[0m\u001b[0mfunc\u001b[0m\u001b[1;33m)\u001b[0m\u001b[1;33m:\u001b[0m\u001b[1;33m\u001b[0m\u001b[0m\n\u001b[1;32m--> 670\u001b[1;33m                 \u001b[1;32mraise\u001b[0m \u001b[0mAttributeError\u001b[0m\u001b[1;33m(\u001b[0m\u001b[1;34m'Unknown property %s'\u001b[0m \u001b[1;33m%\u001b[0m \u001b[0mk\u001b[0m\u001b[1;33m)\u001b[0m\u001b[1;33m\u001b[0m\u001b[0m\n\u001b[0m\u001b[0;32m    671\u001b[0m             \u001b[0mfunc\u001b[0m\u001b[1;33m(\u001b[0m\u001b[0mv\u001b[0m\u001b[1;33m)\u001b[0m\u001b[1;33m\u001b[0m\u001b[0m\n\u001b[0;32m    672\u001b[0m             \u001b[0mchanged\u001b[0m \u001b[1;33m=\u001b[0m \u001b[0mTrue\u001b[0m\u001b[1;33m\u001b[0m\u001b[0m\n",
        "\u001b[1;31mAttributeError\u001b[0m: Unknown property xycenuoords"
       ]
      },
      {
       "output_type": "display_data",
       "png": "[encoded data removed]"
      }
     ],
     "prompt_number": 5
    },
    {
     "cell_type": "code",
     "collapsed": false,
     "input": [
      "my_list = range(16)\n",
      "print filter(lambda x: x % 3 ==0, my_list)\n",
      "#[0, 3, 6, 9, 12, 15]\n",
      "\n",
      "#Use int, float and str to convert numbers to strings and vice versa:\n",
      "integertemp = int(\"37\")\n",
      "floattemp = float(\"98.6\")\n",
      "stringtemp = str(98.6)\n",
      "\n",
      "#Use while to define code to be executed while a specified condition is true:\n",
      "# display the numbers from 1 to 10\n",
      "x = 1\n",
      "while x <= 10:\n",
      "    print x\n",
      "    x = x + 1\n",
      "#Use for to loop through a range of numbers or a list:\n",
      "# display the numbers from 1 to 10\n",
      "for x in range(1, 11):\n",
      "    print x\n",
      "\n",
      "\n",
      "#A list is an ordered collection of values. Lists are enclosed in brackets ([]):\n",
      "patientids = [42446, 42113, 42007]\n",
      "segmentlist = [\"MSH\", \"EVN\", \"PID\", \"NK1\", \"PV1\"]\n",
      "\n",
      "#You can assign a list to a variable or to multiple variables at once:\n",
      "patientinfo = ['JohnDoe', 42446, 'Admitted', 1000]\n",
      "(patientname, patientid, patientstatus) = ['JohnDoe', 42446, 'Admitted']\n",
      "#You can also assign a single element of a list to a variable:\n",
      "patientid = patientinfo[1] # assigns the second element of patientinfo to patientid\n",
      "\n",
      "#append\n",
      "#Add a value to the end of a list\n",
      "x = [1, 2, 3]\n",
      "x.append(4) # x is now [1, 2, 3, 4]\n",
      "\n",
      "#del \n",
      "#Delete a value from a list\n",
      "x = [1, 2, 3, 4]\n",
      "del x[1] # x is now [1, 3, 4]\n",
      "\n",
      "#index \n",
      "#Return the index of an item in a list\n",
      "x = [1, 2, 3, 5, 2, 4]\n",
      "y = x.index(3) # y is now 2\n",
      "\n",
      "#pop \n",
      "#Remove an item from a list and return it\n",
      "x = [1, 2, 3, 4]\n",
      "y = x.pop(1) # x is now [1, 3, 4]; y is now 2\n",
      "z = x.pop() # x is now [1, 3]; z is now 4"
     ],
     "language": "python",
     "metadata": {},
     "outputs": [
      {
       "output_type": "stream",
       "stream": "stdout",
       "text": [
        "[0, 3, 6, 9, 12, 15]\n",
        "1\n",
        "2\n",
        "3\n",
        "4\n",
        "5\n",
        "6\n",
        "7\n",
        "8\n",
        "9\n",
        "10\n",
        "1\n",
        "2\n",
        "3\n",
        "4\n",
        "5\n",
        "6\n",
        "7\n",
        "8\n",
        "9\n",
        "10\n"
       ]
      }
     ],
     "prompt_number": 2
    },
    {
     "cell_type": "markdown",
     "metadata": {},
     "source": [
      "stars"
     ]
    },
    {
     "cell_type": "code",
     "collapsed": false,
     "input": [
      "import numpy as np\n",
      "import re\n",
      "import matplotlib.pyplot as plt\n",
      "from pylab import *\n",
      "import datetime\n",
      "import matplotlib.dates as mdates\n",
      "import matplotlib.ticker as mtick\n",
      "\n",
      "#data = loadtxt(\"stars.txt\",float)\n",
      "\n",
      "#shorthand to read in nicely behaved data\n",
      "x = data[:,0]\n",
      "y = data[:,1]\n",
      "\n",
      "fig = figure(4)\n",
      "ax = subplot(111)\n",
      "\n",
      "plt.scatter(x, y, color=(.75,.45,0,1), s=45, edgecolor='none', marker = \"$*$\")\n",
      "\n",
      "#reverse the limits\n",
      "xlim(plt.xlim()[1], 0)\n",
      "ylim(plt.ylim()[::-1])\n",
      "\n",
      "ax.annotate('White Dwarfs', xy=(8000,14),  xycenuoords='data',\n",
      "            xytext=(-50, -30), textcoords='offset points',\n",
      "            arrowprops=dict(arrowstyle=\"->\")\n",
      "            )\n",
      "ax.annotate('Giants', xy=(5300,-1),  xycoords='data',\n",
      "            xytext=(-40, 20), textcoords='offset points',\n",
      "            arrowprops=dict(arrowstyle=\"->\")\n",
      "            )\n",
      "ax.annotate('Main Sequence', xy=(3000,7),  xycoords='data',\n",
      "            xytext=(10, 20), textcoords='offset points',\n",
      "            arrowprops=dict(arrowstyle=\"->\")\n",
      "            )\n",
      "\n",
      "plt.xlabel(\"$Temperature\\ (K)$\")\n",
      "plt.ylabel(\"$Stellar Magnitude$\")\n",
      "\n",
      "#based on defaults, but tweaked\n",
      "plt.xticks(np.arange(plt.xlim()[0]-1000, -1, -3000))\n",
      "#plt.yticks(np.arange(-5.01, 20, 5), [\"$10^{-5}$\", \"$1$\", \"$10^{5}$\", \"$10^{10}$\", \"$10^{15}$\", \"$10^{20}$\"]) \n",
      "\n",
      "plt.show()"
     ],
     "language": "python",
     "metadata": {},
     "outputs": [
      {
       "ename": "NameError",
       "evalue": "name 'data' is not defined",
       "output_type": "pyerr",
       "traceback": [
        "\u001b[1;31m---------------------------------------------------------------------------\u001b[0m\n\u001b[1;31mNameError\u001b[0m                                 Traceback (most recent call last)",
        "\u001b[1;32m<ipython-input-7-a3287642564d>\u001b[0m in \u001b[0;36m<module>\u001b[1;34m()\u001b[0m\n\u001b[0;32m     10\u001b[0m \u001b[1;33m\u001b[0m\u001b[0m\n\u001b[0;32m     11\u001b[0m \u001b[1;31m#shorthand to read in nicely behaved data\u001b[0m\u001b[1;33m\u001b[0m\u001b[1;33m\u001b[0m\u001b[0m\n\u001b[1;32m---> 12\u001b[1;33m \u001b[0mx\u001b[0m \u001b[1;33m=\u001b[0m \u001b[0mdata\u001b[0m\u001b[1;33m[\u001b[0m\u001b[1;33m:\u001b[0m\u001b[1;33m,\u001b[0m\u001b[1;36m0\u001b[0m\u001b[1;33m]\u001b[0m\u001b[1;33m\u001b[0m\u001b[0m\n\u001b[0m\u001b[0;32m     13\u001b[0m \u001b[0my\u001b[0m \u001b[1;33m=\u001b[0m \u001b[0mdata\u001b[0m\u001b[1;33m[\u001b[0m\u001b[1;33m:\u001b[0m\u001b[1;33m,\u001b[0m\u001b[1;36m1\u001b[0m\u001b[1;33m]\u001b[0m\u001b[1;33m\u001b[0m\u001b[0m\n\u001b[0;32m     14\u001b[0m \u001b[1;33m\u001b[0m\u001b[0m\n",
        "\u001b[1;31mNameError\u001b[0m: name 'data' is not defined"
       ]
      }
     ],
     "prompt_number": 7
    },
    {
     "cell_type": "markdown",
     "metadata": {},
     "source": [
      "sunspots"
     ]
    },
    {
     "cell_type": "code",
     "collapsed": false,
     "input": [
      "import numpy as np\n",
      "import re\n",
      "import matplotlib.pyplot as plt\n",
      "from pylab import *\n",
      "import datetime\n",
      "import matplotlib.dates as mdates\n",
      "import matplotlib.ticker as mtick\n",
      "\n",
      "import re\n",
      "\n",
      "#line by line parser\n",
      "datalist = []\n",
      "datain = open('sunspots.txt', 'r')\n",
      "for i, line in enumerate (datain):\n",
      "    datalist.append(line)\n",
      "    \n",
      "    #only process the first 1000 data points\n",
      "    #if i >=999:\n",
      "    #    break\n",
      "datain.close()\n",
      "\n",
      "#arrays to hold the sunspot data\n",
      "ssall = np.zeros(len(datalist))\n",
      "ssdates = np.zeros(len(datalist))\n",
      "ssavg = np.zeros(len(datalist))\n",
      "sstot = 0\n",
      "\n",
      "#hardwired startdate\n",
      "startdate = 1749.0\n",
      "\n",
      "#regexp based parser to pick out the data from the file input\n",
      "for i, d in enumerate(datalist):\n",
      "    #\\t tab \\d any digit + similar to * but requires one hit, works on preceding\n",
      "    #r at the front forces the string to raw to help deal with chained \\ escapes\n",
      "    #total regexp query: match [tab]123.45\n",
      "    query = r'\\t\\d+\\.\\d+'\n",
      "    hit = re.search(query, str(d))\n",
      "    #get the string the regexp search returns\n",
      "    ssall[i] = float(hit.group())\n",
      "    #end dates increase by 1/12 of a year at a time\n",
      "    ssdates[i]  = startdate+(i+1)/12.\n",
      "    \n",
      "    #calculate the running average\n",
      "    sstot += float(hit.group())\n",
      "    ssavg[i] = sstot/(i+1)\n",
      "    \n",
      "fig = figure(3)\n",
      "ax = subplot(111)\n",
      "\n",
      "plt.plot(ssdates, ssall, color = 'red', linewidth = .5, label = \"Monthly Sunspot Count\")\n",
      "plt.plot(ssdates, ssavg, color = 'darkblue', linestyle = '-', label = \"Running Average\")\n",
      "plt.legend(loc = 'best')\n",
      "\n",
      "plt.xlabel(\"Year\")\n",
      "plt.ylabel(\"Sunspot Count\")\n",
      "plt.title(\"Historical Sunspot Activity\")\n",
      "\n",
      "#dynamic enddate, count hardwired\n",
      "plt.axis([startdate,startdate+(len(ssdates)/12), 0, 300])\n",
      "ax.minorticks_on()\n",
      "\n",
      "plt.show()"
     ],
     "language": "python",
     "metadata": {},
     "outputs": [
      {
       "ename": "IOError",
       "evalue": "[Errno 2] No such file or directory: 'sunspots.txt'",
       "output_type": "pyerr",
       "traceback": [
        "\u001b[1;31m---------------------------------------------------------------------------\u001b[0m\n\u001b[1;31mIOError\u001b[0m                                   Traceback (most recent call last)",
        "\u001b[1;32m<ipython-input-8-91dada7d7bb9>\u001b[0m in \u001b[0;36m<module>\u001b[1;34m()\u001b[0m\n\u001b[0;32m     11\u001b[0m \u001b[1;31m#line by line parser\u001b[0m\u001b[1;33m\u001b[0m\u001b[1;33m\u001b[0m\u001b[0m\n\u001b[0;32m     12\u001b[0m \u001b[0mdatalist\u001b[0m \u001b[1;33m=\u001b[0m \u001b[1;33m[\u001b[0m\u001b[1;33m]\u001b[0m\u001b[1;33m\u001b[0m\u001b[0m\n\u001b[1;32m---> 13\u001b[1;33m \u001b[0mdatain\u001b[0m \u001b[1;33m=\u001b[0m \u001b[0mopen\u001b[0m\u001b[1;33m(\u001b[0m\u001b[1;34m'sunspots.txt'\u001b[0m\u001b[1;33m,\u001b[0m \u001b[1;34m'r'\u001b[0m\u001b[1;33m)\u001b[0m\u001b[1;33m\u001b[0m\u001b[0m\n\u001b[0m\u001b[0;32m     14\u001b[0m \u001b[1;32mfor\u001b[0m \u001b[0mi\u001b[0m\u001b[1;33m,\u001b[0m \u001b[0mline\u001b[0m \u001b[1;32min\u001b[0m \u001b[0menumerate\u001b[0m \u001b[1;33m(\u001b[0m\u001b[0mdatain\u001b[0m\u001b[1;33m)\u001b[0m\u001b[1;33m:\u001b[0m\u001b[1;33m\u001b[0m\u001b[0m\n\u001b[0;32m     15\u001b[0m     \u001b[0mdatalist\u001b[0m\u001b[1;33m.\u001b[0m\u001b[0mappend\u001b[0m\u001b[1;33m(\u001b[0m\u001b[0mline\u001b[0m\u001b[1;33m)\u001b[0m\u001b[1;33m\u001b[0m\u001b[0m\n",
        "\u001b[1;31mIOError\u001b[0m: [Errno 2] No such file or directory: 'sunspots.txt'"
       ]
      }
     ],
     "prompt_number": 8
    },
    {
     "cell_type": "markdown",
     "metadata": {},
     "source": [
      "psi function"
     ]
    },
    {
     "cell_type": "code",
     "collapsed": false,
     "input": [
      "A = 1\n",
      "a = 1\n",
      "x = np.arange(-pi, pi+.01, .01)\n",
      "u = -(1/cosh(a*x))**2\n",
      "k = 1\n",
      "\n",
      "i = 1j\n",
      "\n",
      "z = a*x\n",
      "def psi(x, k):\n",
      "    q = k/a\n",
      "    return (q**2+tanh(z)**2)/(q**2 + 1)\n",
      "\n",
      "plt.plot(x,u, label = \"$U(x)$\")\n",
      "\n",
      "linestyles = ['-','--','-.', ' ', ':']\n",
      "for m in range(0,5):\n",
      "    n = float(m)/2\n",
      "    if n != 1.5:\n",
      "        plt.plot(x,psi(x, n), linestyle = linestyles[m], color = 'red',  label = \"$\\psi,^2 \\  k=$\"+str(n))\n",
      "    \n",
      "plt.legend(loc='best', fontsize = 12)\n",
      "plt.axis([-pi-.3,pi+.3,-1.3,1.3])\n",
      "plt.yticks(np.arange(-1.0,1.01,.5) , np.arange(-1.0,1.01,.5))\n",
      "plt.xticks(np.arange(-pi, pi+.01, pi/2),[ \"$-\\pi$\", \"$-\\pi/2$\", \"0\", \"$\\pi/2$\", \"$\\pi$\"])\n",
      "plt.grid(True)\n",
      "#plt.figsize(6,5)"
     ],
     "language": "python",
     "metadata": {},
     "outputs": [
      {
       "output_type": "display_data",
       "png": "[encoded data removed]"
      }
     ],
     "prompt_number": 9
    },
    {
     "cell_type": "markdown",
     "metadata": {},
     "source": [
      "Cookbook"
     ]
    },
    {
     "cell_type": "code",
     "collapsed": false,
     "input": [
      "import re\n",
      "import numpy as np\n",
      "import matplotlib.pyplot as plt\n",
      "from numpy import pi,cosh,tanh\n",
      "\n",
      "choices = ['pizza', 'pasta', 'salad', 'nachos']\n",
      "\n",
      "print 'Your choices are:'\n",
      "for index, item in enumerate(choices):\n",
      "    print index, item\n",
      "    \n",
      "list_a = [3, 9, 17, 15, 19]\n",
      "list_b = [2, 4, 8, 10, 30, 40, 50, 60, 70, 80, 90]\n",
      "\n",
      "for a, b in zip(list_a, list_b):\n",
      "    # Add your code here!\n",
      "    print a,b\n",
      "    \n",
      "    \n",
      "#print every other element\n",
      "my_list = range(1,11)\n",
      "print my_list[::2]\n",
      "\n",
      "#list comprehension\n",
      "#construct a list of only even squares\n",
      "even_squares = [x**2 for x in range(1,11) if (x**2)%2 == 0]\n",
      "    \n",
      "def reverse(text):\n",
      "    new = \"\"\n",
      "    for x in reversed(text):\n",
      "        new += x\n",
      "    return new\n",
      "\n",
      "#have to import re for this one\n",
      "def censor(text, word):\n",
      "    sub = \"\"\n",
      "    for x in word:\n",
      "        sub +=\"*\"\n",
      "    p = re.sub(word, sub, text)\n",
      "    return p\n",
      "\n",
      "#basic obj or setup\n",
      "#remember: have to use self. a bunch inside the class\n",
      "class Animal(object):\n",
      "    def __init__(self, name):\n",
      "        self.name = name\n",
      "        \n",
      "zebra = Animal(\"Jeffrey\")\n",
      "print zebra.name\n",
      "\n",
      "my_list = range(1,11)\n",
      "# Add your code below!\n",
      "backwards = my_list[::-1]\n",
      "print backwards\n",
      "\n",
      "squares = [x**2 for x in range(1,11)]\n",
      "print filter(lambda l: l>30 and l<70, squares)\n",
      "\n",
      "garbled = \"IXXX aXXmX aXXXnXoXXXXXtXhXeXXXXrX sXXXXeXcXXXrXeXt mXXeXsXXXsXaXXXXXXgXeX!XX\"\n",
      "message = filter(lambda l: l != \"X\", garbled)\n",
      "\n",
      "print hex(22)\n",
      "print oct(64)\n",
      "print bin(22)\n",
      "\n",
      "\n",
      "#sunday counter\n",
      "from calendar import monthrange; from itertools import product\n",
      "print len([(year, month) for year, month in product(range(1899, 2001), range(1, 13)) if monthrange(year, month)[0] == 6])\n"
     ],
     "language": "python",
     "metadata": {},
     "outputs": [
      {
       "output_type": "stream",
       "stream": "stdout",
       "text": [
        "Your choices are:\n",
        "0 pizza\n",
        "1 pasta\n",
        "2 salad\n",
        "3 nachos\n",
        "3 2\n",
        "9 4\n",
        "17 8\n",
        "15 10\n",
        "19 30\n",
        "[1, 3, 5, 7, 9]\n",
        "Jeffrey\n",
        "[10, 9, 8, 7, 6, 5, 4, 3, 2, 1]\n",
        "[36, 49, 64]\n",
        "0x16\n",
        "0100\n",
        "0b10110\n",
        "175\n"
       ]
      }
     ],
     "prompt_number": 10
    },
    {
     "cell_type": "code",
     "collapsed": false,
     "input": [],
     "language": "python",
     "metadata": {},
     "outputs": []
    }
   ],
   "metadata": {}
  }
 ]
}