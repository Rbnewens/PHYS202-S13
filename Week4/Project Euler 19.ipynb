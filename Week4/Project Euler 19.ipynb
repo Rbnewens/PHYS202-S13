{
 "metadata": {
  "name": "Project Euler 19"
 },
 "nbformat": 3,
 "nbformat_minor": 0,
 "worksheets": [
  {
   "cells": [
    {
     "cell_type": "markdown",
     "metadata": {},
     "source": [
      "Project Euler 19: Counting Sundays"
     ]
    },
    {
     "cell_type": "code",
     "collapsed": false,
     "input": [
      "months = [31, 28, 31, 30, 31, 30, 31, 31, 31, 30, 31]\n",
      "week = ['sun', 'mon', 'tue', 'wed', 'thu', 'fri', 'sat']"
     ],
     "language": "python",
     "metadata": {},
     "outputs": [],
     "prompt_number": 2
    },
    {
     "cell_type": "code",
     "collapsed": false,
     "input": [
      "leapyears = [year for year in range(1, 101) if year % 4 == 0]\n",
      "\n",
      "day = 0 \n",
      "month = 0\n",
      "year = 1\n",
      "weekday = 2"
     ],
     "language": "python",
     "metadata": {},
     "outputs": [],
     "prompt_number": 3
    },
    {
     "cell_type": "code",
     "collapsed": false,
     "input": [
      "days = {day: week[weekday]}\n",
      "fromlastmonth = 0\n",
      "fromlastyear = 0"
     ],
     "language": "python",
     "metadata": {},
     "outputs": [],
     "prompt_number": 4
    },
    {
     "cell_type": "code",
     "collapsed": false,
     "input": [
      "firstofmonths = ()\n",
      "#while year <= 100:\n",
      " #   if fromlastmonth == 0:\n",
      "  #      firstofmonths[(month+1, fromlastmonth+1, year +1900)] = week[weekday]"
     ],
     "language": "python",
     "metadata": {},
     "outputs": [],
     "prompt_number": 8
    },
    {
     "cell_type": "code",
     "collapsed": false,
     "input": [
      "day += 1\n",
      "fromlastmonth += 1\n",
      "fromlastyear +=1"
     ],
     "language": "python",
     "metadata": {},
     "outputs": []
    },
    {
     "cell_type": "code",
     "collapsed": false,
     "input": [
      "daysofyear = 365\n",
      "if years in leapyears:\n",
      "    daysofyear += 1\n",
      "if fromlastyear >= daysofyear:\n",
      "    year += 1\n",
      "    fromlastyear = 0"
     ],
     "language": "python",
     "metadata": {},
     "outputs": []
    },
    {
     "cell_type": "code",
     "collapsed": false,
     "input": [
      "daysofmonth = months[month]\n",
      "if month == 1 and year in leapyears:\n",
      "    daysofmonth += 1\n",
      "if fromlastmonth >= daysofmonth:\n",
      "    month += 1\n",
      "    fromlastmonth = 0\n",
      "    if month > len(months)-1:\n",
      "        month = 0\n",
      "    "
     ],
     "language": "python",
     "metadata": {},
     "outputs": []
    },
    {
     "cell_type": "code",
     "collapsed": false,
     "input": [
      "weekday += 1\n",
      "    if weekday > len(week)-1:\n",
      "        weekday = 0\n",
      "    days[day] = week[weekday]"
     ],
     "language": "python",
     "metadata": {},
     "outputs": []
    },
    {
     "cell_type": "code",
     "collapsed": false,
     "input": [
      "print len([weekday for weekday in firstofmonths.values() if weekday == 'sun'])"
     ],
     "language": "python",
     "metadata": {},
     "outputs": []
    },
    {
     "cell_type": "code",
     "collapsed": false,
     "input": [],
     "language": "python",
     "metadata": {},
     "outputs": []
    }
   ],
   "metadata": {}
  }
 ]
}