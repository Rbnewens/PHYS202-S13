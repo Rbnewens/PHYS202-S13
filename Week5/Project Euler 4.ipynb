{
 "metadata": {
  "name": "Project Euler 4"
 },
 "nbformat": 3,
 "nbformat_minor": 0,
 "worksheets": [
  {
   "cells": [
    {
     "cell_type": "markdown",
     "metadata": {},
     "source": [
      "#Project Euler 4: Largest Palindrome Product"
     ]
    },
    {
     "cell_type": "markdown",
     "metadata": {},
     "source": [
      "A palindromic number reads the same both ways. The largest palindrome made from the product of two 2-digit numbers is 9009=91x99.\n",
      "Find the largest palindrome made from the product of two 3-digit numbers."
     ]
    },
    {
     "cell_type": "code",
     "collapsed": false,
     "input": [
      "\n",
      "def palindrome(start, stop): \n",
      "    product = 0\n",
      "    for i in range(start, stop): #for every number in the range(3 digit numbers)\n",
      "        for j in range(start, i): #for numbers from 100(lowest  3 digit number) to i\n",
      "            p = i*j # p is the product of these two numbers\n",
      "            \n",
      "            if p > product: #if p is greater then the current product,\n",
      "                s = str(p) #convert to string\n",
      "                if s == s[::-1]: #if string reads the same both ways,\n",
      "                    product = p #p is the new total product and is the largest palindrome\n",
      "    return product\n",
      "\n",
      "    "
     ],
     "language": "python",
     "metadata": {},
     "outputs": [],
     "prompt_number": 45
    },
    {
     "cell_type": "markdown",
     "metadata": {},
     "source": [
      "Test case: biggest palindrome of two digit numbers"
     ]
    },
    {
     "cell_type": "code",
     "collapsed": false,
     "input": [
      "palindrome(10,100) #biggest palindrom in range 10-99 (2 digit)"
     ],
     "language": "python",
     "metadata": {},
     "outputs": [
      {
       "output_type": "pyout",
       "prompt_number": 46,
       "text": [
        "9009"
       ]
      }
     ],
     "prompt_number": 46
    },
    {
     "cell_type": "code",
     "collapsed": false,
     "input": [
      "palindrome(100,1000) #biggest palindrome in three digit number range"
     ],
     "language": "python",
     "metadata": {},
     "outputs": [
      {
       "output_type": "pyout",
       "prompt_number": 47,
       "text": [
        "906609"
       ]
      }
     ],
     "prompt_number": 47
    },
    {
     "cell_type": "markdown",
     "metadata": {},
     "source": [
      "biggest three digit palindrome is 906609"
     ]
    },
    {
     "cell_type": "code",
     "collapsed": false,
     "input": [],
     "language": "python",
     "metadata": {},
     "outputs": []
    }
   ],
   "metadata": {}
  }
 ]
}