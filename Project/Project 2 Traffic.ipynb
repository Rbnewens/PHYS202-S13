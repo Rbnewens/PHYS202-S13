{
 "metadata": {
  "name": "Project 2 Traffic"
 },
 "nbformat": 3,
 "nbformat_minor": 0,
 "worksheets": [
  {
   "cells": [
    {
     "cell_type": "markdown",
     "metadata": {},
     "source": [
      "#Project 2: One-Dimensional Traffic Flows"
     ]
    },
    {
     "cell_type": "markdown",
     "metadata": {},
     "source": [
      "Description: This project simulates one dimensional trafic flow on an equally spaced road with boundary conditons. The following rule sets decide how the traffic will flow.\n",
      "\n",
      "STCA:\n",
      "1. Let gi equal the number of empty sites in front of each car. \n",
      "2. If gi = 0, that car does not move during this time step.\n",
      "3. If vi>gi, slow down to vi=gi.\n",
      "4. If vi< gi and vi<vmax, speed up by one unit: vi=vi+1.\n",
      "5. For vi > 0, allow for random slowdowns by letting vi=vi\u22121 with probability p.\n",
      "5. Move all cars forward by vi.\n",
      "\n",
      "ASEP:\n",
      "\n",
      "1. Pick one car at random.\n",
      "2. Let gi equal the number of empty sites in front of this car.\n",
      "3. If gi = 0, that car does not move during this time step.\n",
      "4. If vi>gi, slow down to vi=gi.\n",
      "5. If vi<gi and vi<vmax, speed up by one unit: vi=vi+1.\n",
      "6. Move this car forward by vi."
     ]
    },
    {
     "cell_type": "code",
     "collapsed": false,
     "input": [
      "import numpy as np\n",
      "import math"
     ],
     "language": "python",
     "metadata": {},
     "outputs": [],
     "prompt_number": 1
    },
    {
     "cell_type": "markdown",
     "metadata": {},
     "source": [
      "Initial array set up\n"
     ]
    },
    {
     "cell_type": "code",
     "collapsed": false,
     "input": [
      "n = 5 #number of cars\n",
      "x0 = np.random.random(n)*200 # random array of positions\n",
      "x = sort(x.round()) #sort\n",
      "v0 = np.random.random(n)*70 #random velocities\n",
      "v = v.round() \n",
      "vmax = 70 "
     ],
     "language": "python",
     "metadata": {},
     "outputs": [],
     "prompt_number": 25
    },
    {
     "cell_type": "markdown",
     "metadata": {},
     "source": [
      "CA184"
     ]
    },
    {
     "cell_type": "code",
     "collapsed": false,
     "input": [
      "def CA184(x,v,n,l):\n",
      "    \"\"\"will return the array with the new positions and velocities after one time step\"\"\"\n",
      "    for i in range(n):\n",
      "        if i+1 < n: #calculating values of g\n",
      "            g[i] = int(x[i+1] -x[i]) #show how much space until next car\n",
      "        else:\n",
      "            g[i] = l - x[i] #if it is the last car, show how far to the end\n",
      "    for i in range(n):\n",
      "        if g[i] == 0:#no space in front\n",
      "            v[i] = 0 #car does not move\n",
      "        elif v[i] > g[i]:#if speed greater than space infont\n",
      "            g[i] = v[i] #slow down to v=g\n",
      "            x[i] += v[i] #position changes\n",
      "        elif v[i] < g[i] and v[i] < vmax:  #if speed less than space in front \n",
      "            v[i] = v[i] + 1 #increase speed by 1\n",
      "            x[i] += v[i] #position changes\n",
      "        if v[i] > 0: #if speed is greater than zero\n",
      "            v[i] = v[i] - 1 #allow random slowdowns\n",
      "      \n",
      "   \n",
      "    print 'new position:', x\n",
      "    print 'new velocity:', v\n",
      "    print 'space inbetween:',g"
     ],
     "language": "python",
     "metadata": {},
     "outputs": [],
     "prompt_number": 26
    },
    {
     "cell_type": "code",
     "collapsed": false,
     "input": [
      "#original positions and velocities\n",
      "print x\n",
      "print v\n"
     ],
     "language": "python",
     "metadata": {},
     "outputs": [
      {
       "output_type": "stream",
       "stream": "stdout",
       "text": [
        "[  82.   87.  104.  125.  165.]\n",
        "[ 15.  38.  34.  51.  18.]\n"
       ]
      }
     ],
     "prompt_number": 27
    },
    {
     "cell_type": "code",
     "collapsed": false,
     "input": [
      "#new positions, velocities and space\n",
      "CA184(x,v,5,200)"
     ],
     "language": "python",
     "metadata": {},
     "outputs": [
      {
       "output_type": "stream",
       "stream": "stdout",
       "text": [
        "new position: [  97.  125.  138.  176.  184.]\n",
        "new velocity: [ 14.  37.  33.  50.  18.]\n",
        "space inbetween: [ 15.  38.  34.  51.  35.]\n"
       ]
      }
     ],
     "prompt_number": 29
    },
    {
     "cell_type": "markdown",
     "metadata": {},
     "source": [
      "Again"
     ]
    },
    {
     "cell_type": "code",
     "collapsed": false,
     "input": [
      "print x\n",
      "print v\n",
      "CA184(x,v,5,200)"
     ],
     "language": "python",
     "metadata": {},
     "outputs": [
      {
       "output_type": "stream",
       "stream": "stdout",
       "text": [
        "[  97.  125.  138.  176.  184.]\n",
        "[ 14.  37.  33.  50.  18.]\n",
        "new position: [ 112.  162.  172.  226.  202.]\n",
        "new velocity: [ 14.  36.  33.  49.  17.]\n",
        "space inbetween: [ 28.  37.  38.  50.  18.]\n"
       ]
      }
     ],
     "prompt_number": 30
    },
    {
     "cell_type": "code",
     "collapsed": false,
     "input": [
      "#again\n",
      "print x\n",
      "print v\n",
      "CA184(x,v,5,200)"
     ],
     "language": "python",
     "metadata": {},
     "outputs": [
      {
       "output_type": "stream",
       "stream": "stdout",
       "text": [
        "[ 112.  162.  172.  226.  202.]\n",
        "[ 14.  36.  33.  49.  17.]\n",
        "new position: [ 127.  198.  206.  275.  219.]\n",
        "new velocity: [ 14.  35.  33.  48.  16.]\n",
        "space inbetween: [ 50.  36.  54.  49.  17.]\n"
       ]
      }
     ],
     "prompt_number": 31
    },
    {
     "cell_type": "markdown",
     "metadata": {},
     "source": [
      "looks good!!!!....i think"
     ]
    },
    {
     "cell_type": "markdown",
     "metadata": {},
     "source": [
      "Second Checkpoint"
     ]
    },
    {
     "cell_type": "code",
     "collapsed": false,
     "input": [
      "n=5#10cars\n",
      "x_2 = np.random.random(n)*200\n",
      "v_2 = np.random.random(n)*70\n",
      "x = sort(x_2.round())\n",
      "v = v_2.round()\n",
      "#p = np.random.random(1)\n",
      "vmax = 70"
     ],
     "language": "python",
     "metadata": {},
     "outputs": [],
     "prompt_number": 33
    },
    {
     "cell_type": "code",
     "collapsed": false,
     "input": [
      "def STCA(x,v,n,l):\n",
      "    \"\"\"will return the array with the new positions and velocities after one time step\"\"\"\n",
      "    for i in range(n):\n",
      "        if i+1 < n: #calculating values of g\n",
      "            g[i] = int(x[i+1] -x[i]) #show how much space until next car\n",
      "        else:\n",
      "            g[i] = l - x[i] \n",
      "            \n",
      "    for i in range(len(x)): #for each step in random array in positions\n",
      "        if g[i] == 0: # if distance to next car is 0, speed is 0\n",
      "            v[i] = 0 #set velocity equal to 0\n",
      "        elif v[i] > g[i]: # if speed is greater than distance to next car\n",
      "            v[i] = g[i] #set speed equal to g\n",
      "        elif v[i] < g[i] and v[i] == vmax: # if velocity is less than distance to next car and equal to vmax\n",
      "            v[i] = v[i] + 1 #increase velocity by 1 unit\n",
      "        for j in range(len(v)): #for each step in a range of velocities\n",
      "            if 0 > v[j]:\n",
      "                p = round(random_sample(1))\n",
      "                v[j] = (v[j]-1)*p\n",
      "        x[i] += v[i] #adjust position to account for change in velocity\n",
      "        if x[i] > l:\n",
      "            x[i] = x[i] - l\n",
      "    print \"final velocity: \",v\n",
      "    print \"final postion: \",x\n",
      "    print \"distance between cars: \",g"
     ],
     "language": "python",
     "metadata": {},
     "outputs": [],
     "prompt_number": 34
    },
    {
     "cell_type": "code",
     "collapsed": false,
     "input": [
      "print x\n",
      "print v\n",
      "print STCA(x,v,5,200)"
     ],
     "language": "python",
     "metadata": {},
     "outputs": [
      {
       "output_type": "stream",
       "stream": "stdout",
       "text": [
        "[  30.   52.  114.  123.  194.]\n",
        "[ 39.  57.  43.  30.  68.]\n",
        "final velocity:  [ 22.  57.   9.  30.   6.]\n",
        "final postion:  [  52.  109.  123.  153.  200.]\n",
        "distance between cars:  [ 22.  62.   9.  71.   6.]\n",
        "None\n"
       ]
      }
     ],
     "prompt_number": 35
    },
    {
     "cell_type": "code",
     "collapsed": false,
     "input": [
      "#test again\n",
      "print x\n",
      "print v\n",
      "print STCA(x,v,5,200)"
     ],
     "language": "python",
     "metadata": {},
     "outputs": [
      {
       "output_type": "stream",
       "stream": "stdout",
       "text": [
        "[  52.  109.  123.  153.  200.]\n",
        "[ 22.  57.   9.  30.   6.]\n",
        "final velocity:  [ 22.  14.   9.  30.   0.]\n",
        "final postion:  [  74.  123.  132.  183.  200.]\n",
        "distance between cars:  [ 57.  14.  30.  47.   0.]\n",
        "None\n"
       ]
      }
     ],
     "prompt_number": 36
    },
    {
     "cell_type": "code",
     "collapsed": false,
     "input": [
      "#and again\n",
      "print x\n",
      "print v\n",
      "print STCA(x,v,5,200)"
     ],
     "language": "python",
     "metadata": {},
     "outputs": [
      {
       "output_type": "stream",
       "stream": "stdout",
       "text": [
        "[  74.  123.  132.  183.  200.]\n",
        "[ 22.  14.   9.  30.   0.]\n",
        "final velocity:  [ 22.   9.   9.  17.   0.]\n",
        "final postion:  [  96.  132.  141.  200.  200.]\n",
        "distance between cars:  [ 49.   9.  51.  17.   0.]\n",
        "None\n"
       ]
      }
     ],
     "prompt_number": 37
    },
    {
     "cell_type": "markdown",
     "metadata": {},
     "source": [
      "STCA looks good."
     ]
    },
    {
     "cell_type": "markdown",
     "metadata": {},
     "source": [
      "ASEP "
     ]
    },
    {
     "cell_type": "code",
     "collapsed": false,
     "input": [
      "import random\n",
      "n=5#5cars\n",
      "x_2 = np.random.random(n)*200\n",
      "v_2 = np.random.random(n)*70\n",
      "x = sort(x_2.round())\n",
      "v = v_2.round()\n",
      "#p = np.random.random(1)\n",
      "vmax = 70\n",
      "def ASEP(x,v,n,l):\n",
      "    \"\"\"return adjusted positions, velocities, and spaces between cars\"\"\"\n",
      "    g = np.zeros(n) #number of empty spaces\n",
      "    i = random.randrange(0,len(x),1) #randomly choose car position\n",
      "    if v[i] > g[i]: # if speed is greater than distance to next car\n",
      "        v[i] = g[i] #set speed equal to g\n",
      "    elif v[i] < g[i] and v1[i] == vmax: # if velocity is less than distance to next car and is equal to vmax\n",
      "        v[i] = v[i] + 1 #velocity goes up by 1\n",
      "    for k in range(len(v)): \n",
      "        if v[k] < 0:\n",
      "            p = random_sample(1)\n",
      "            v[j] = (v[j]-1)*p\n",
      "    x[i] += v[i]\n",
      "    if l < x[i]:\n",
      "        x[i] = x[i] - l\n",
      "    for i in range(len(x)):\n",
      "        if i < n-1:\n",
      "            g[i] = x[i+1] - x[i] - 1\n",
      "        else:\n",
      "            g[i] = l - x[i]-1\n",
      "    \n",
      "    print \"final velocity: \",v\n",
      "    print \"final postion: \",x\n",
      "    print \"distance between cars: \",g"
     ],
     "language": "python",
     "metadata": {},
     "outputs": [],
     "prompt_number": 43
    },
    {
     "cell_type": "code",
     "collapsed": false,
     "input": [
      "print x\n",
      "print v\n",
      "ASEP(x,v,5,200)"
     ],
     "language": "python",
     "metadata": {},
     "outputs": [
      {
       "output_type": "stream",
       "stream": "stdout",
       "text": [
        "[  29.   66.   73.  167.  187.]\n",
        "[ 19.  36.  55.  58.  50.]\n",
        "final velocity:  [ 19.  36.  55.  58.   0.]\n",
        "final postion:  [  29.   66.   73.  167.  187.]\n",
        "distance between cars:  [ 36.   6.  93.  19.  12.]\n"
       ]
      }
     ],
     "prompt_number": 44
    },
    {
     "cell_type": "code",
     "collapsed": false,
     "input": [
      "#test again\n",
      "print x\n",
      "print v\n",
      "ASEP(x,v,5,200)"
     ],
     "language": "python",
     "metadata": {},
     "outputs": [
      {
       "output_type": "stream",
       "stream": "stdout",
       "text": [
        "[  29.   66.   73.  167.  187.]\n",
        "[ 19.  36.  55.  58.   0.]\n",
        "final velocity:  [ 19.  36.   0.  58.   0.]\n",
        "final postion:  [  29.   66.   73.  167.  187.]\n",
        "distance between cars:  [ 36.   6.  93.  19.  12.]\n"
       ]
      }
     ],
     "prompt_number": 45
    },
    {
     "cell_type": "markdown",
     "metadata": {},
     "source": [
      "Initial conditions"
     ]
    },
    {
     "cell_type": "code",
     "collapsed": false,
     "input": [
      "n_cars = 5 #number of cars\n",
      "x0 = np.random.random(n_cars)*200 # random array of positions\n",
      "v = np.random.random(n_cars)*5 #random array of velocities\n",
      "def initial(l,n,vmax):\n",
      "    x = sort(x0.round())  \n",
      "    v1 = v.round() \n",
      "    return x,v1,n,l"
     ],
     "language": "python",
     "metadata": {},
     "outputs": [
      {
       "output_type": "stream",
       "stream": "stdout",
       "text": [
        "\n"
       ]
      }
     ],
     "prompt_number": 49
    },
    {
     "cell_type": "code",
     "collapsed": false,
     "input": [
      "print 'number of cars: ',initial(200,5,5)[2]\n",
      "print 'l: ',initial(200,5,5)[3]\n",
      "print 'initial x: ',initial(200,5,5)[0]\n",
      "print 'initial v: ',initial(200,5,5)[1]"
     ],
     "language": "python",
     "metadata": {},
     "outputs": [
      {
       "output_type": "stream",
       "stream": "stdout",
       "text": [
        "number of cars:  5\n",
        "l:  200\n",
        "initial x:  [   6.   34.   48.  139.  158.]\n",
        "initial v:  [ 0.  1.  2.  3.  1.]\n"
       ]
      }
     ],
     "prompt_number": 50
    },
    {
     "cell_type": "markdown",
     "metadata": {},
     "source": [
      "Initial conditions look good, time to start plotting"
     ]
    },
    {
     "cell_type": "code",
     "collapsed": false,
     "input": [
      "def plotCA184(x,v,n,l):\n",
      "    \"\"\"will return the array with the new positions and velocities after one time step\"\"\"\n",
      "    for i in range(n):\n",
      "        if i+1 < n: #calculating values of g\n",
      "            g[i] = int(x[i+1] -x[i]) #show how much space until next car\n",
      "        else:\n",
      "            g[i] = l - x[i] #if it is the last car, show how far to the end\n",
      "    for i in range(n):\n",
      "        if g[i] == 0:#no space in front\n",
      "            v[i] = 0 #car does not move\n",
      "        elif v[i] > g[i]:#if speed greater than space infont\n",
      "            g[i] = v[i] #slow down to v=g\n",
      "            x[i] += v[i] #position changes\n",
      "        elif v[i] < g[i] and v[i] < vmax:  #if speed less than space in front \n",
      "            v[i] = v[i] + 1 #increase speed by 1\n",
      "            x[i] += v[i] #position changes\n",
      "        if v[i] > 0: #if speed is greater than zero\n",
      "            v[i] = v[i] - 1 #allow random slowdowns\n",
      "    return x,v,n,l"
     ],
     "language": "python",
     "metadata": {},
     "outputs": [],
     "prompt_number": 51
    },
    {
     "cell_type": "code",
     "collapsed": false,
     "input": [
      "s = 150 #number of steps\n",
      "init = initial(200,5,5) \n",
      "CA184avg = np.zeros(s) \n",
      "for i in range(s):\n",
      "    init = plotCA184(init[0],init[1],init[2],init[3]) #finding the average\n",
      "    CA184avg[i] = np.sum(init[0])/len(init[0]) \n",
      "print CA184avg"
     ],
     "language": "python",
     "metadata": {},
     "outputs": [
      {
       "output_type": "stream",
       "stream": "stdout",
       "text": [
        "[  79.4   81.8   84.2   86.6   89.    91.4   93.8   96.2   97.8  100.\n",
        "  102.2  104.4  106.   108.   110.   112.   114.   116.   118.   120.   122.\n",
        "  123.6  125.2  126.4  127.6  128.8  130.   131.2  132.4  133.6  134.8\n",
        "  136.   137.2  138.4  139.6  140.8  142.   143.2  144.4  145.6  146.8\n",
        "  148.   149.2  150.4  151.6  152.8  154.   155.2  156.4  157.6  158.2\n",
        "  159.2  159.8  160.4  161.   161.6  162.2  162.8  163.4  164.   164.6\n",
        "  165.2  165.8  166.4  167.   167.6  168.2  168.8  169.4  170.   170.6\n",
        "  171.2  171.8  172.4  173.   173.6  174.2  174.8  175.4  176.   176.6\n",
        "  177.2  177.8  178.   178.2  178.4  178.6  178.8  179.   179.2  179.4\n",
        "  179.6  179.8  180.   180.2  180.4  180.6  180.8  181.   181.2  181.4\n",
        "  181.6  181.8  182.   182.2  182.4  182.6  182.8  183.   183.2  183.4\n",
        "  183.6  183.8  184.   184.2  184.4  184.6  184.8  185.   185.2  185.4\n",
        "  185.6  185.8  186.   186.2  186.4  186.6  186.8  187.   187.2  187.4\n",
        "  187.6  187.8  188.   188.2  188.4  188.6  188.8  189.   189.2  189.4\n",
        "  189.6  189.8  190.   190.2  190.4  190.6  190.8  191.   191.2]\n"
       ]
      }
     ],
     "prompt_number": 54
    },
    {
     "cell_type": "code",
     "collapsed": false,
     "input": [
      "t = arange(0,150,1) \n",
      "plot(t, CA184avg,lw=2)\n",
      "xlabel('time')\n",
      "ylabel('position')\n",
      "title('CA184 Position vs. Time Plot')\n",
      "show()"
     ],
     "language": "python",
     "metadata": {},
     "outputs": [
      {
       "output_type": "display_data",
       "png": "[encoded data removed]"
      }
     ],
     "prompt_number": 56
    },
    {
     "cell_type": "markdown",
     "metadata": {},
     "source": [
      "Position/time plot looks good. Now for density"
     ]
    },
    {
     "cell_type": "code",
     "collapsed": false,
     "input": [
      "d = 5./200. #five cars per 200 spaces\n",
      "print d\n",
      "CA184_c = CA184avg*d#current\n",
      "print CA184_c"
     ],
     "language": "python",
     "metadata": {},
     "outputs": [
      {
       "output_type": "stream",
       "stream": "stdout",
       "text": [
        "0.025\n",
        "[ 1.985  2.045  2.105  2.165  2.225  2.285  2.345  2.405  2.445  2.5    2.555\n",
        "  2.61   2.65   2.7    2.75   2.8    2.85   2.9    2.95   3.     3.05   3.09\n",
        "  3.13   3.16   3.19   3.22   3.25   3.28   3.31   3.34   3.37   3.4    3.43\n",
        "  3.46   3.49   3.52   3.55   3.58   3.61   3.64   3.67   3.7    3.73   3.76\n",
        "  3.79   3.82   3.85   3.88   3.91   3.94   3.955  3.98   3.995  4.01\n",
        "  4.025  4.04   4.055  4.07   4.085  4.1    4.115  4.13   4.145  4.16\n",
        "  4.175  4.19   4.205  4.22   4.235  4.25   4.265  4.28   4.295  4.31\n",
        "  4.325  4.34   4.355  4.37   4.385  4.4    4.415  4.43   4.445  4.45\n",
        "  4.455  4.46   4.465  4.47   4.475  4.48   4.485  4.49   4.495  4.5    4.505\n",
        "  4.51   4.515  4.52   4.525  4.53   4.535  4.54   4.545  4.55   4.555\n",
        "  4.56   4.565  4.57   4.575  4.58   4.585  4.59   4.595  4.6    4.605\n",
        "  4.61   4.615  4.62   4.625  4.63   4.635  4.64   4.645  4.65   4.655\n",
        "  4.66   4.665  4.67   4.675  4.68   4.685  4.69   4.695  4.7    4.705\n",
        "  4.71   4.715  4.72   4.725  4.73   4.735  4.74   4.745  4.75   4.755\n",
        "  4.76   4.765  4.77   4.775  4.78 ]\n"
       ]
      }
     ],
     "prompt_number": 58
    },
    {
     "cell_type": "code",
     "collapsed": false,
     "input": [
      "t = arange(0,150,1)\n",
      "plot(t,CA184_c)\n",
      "xlabel('Time')\n",
      "ylabel('Current')\n",
      "title('CA184 Current vs. Time Plot')\n",
      "show()"
     ],
     "language": "python",
     "metadata": {},
     "outputs": [
      {
       "output_type": "display_data",
       "png": "[encoded data removed]"
      }
     ],
     "prompt_number": 59
    },
    {
     "cell_type": "code",
     "collapsed": false,
     "input": [
      "#plot average velocity\n",
      "s = 150\n",
      "#essentially same as average position but with velocity\n",
      "init = initial(200,5,5)\n",
      "CA184_vavg = np.zeros(s)\n",
      "for i in range(s):\n",
      "    init = plotCA184(init[0],init[1],init[2],init[3])\n",
      "    CA184_vavg[i] = np.sum(init[1])/len(init[1])\n",
      "print CA184_vavg"
     ],
     "language": "python",
     "metadata": {},
     "outputs": [
      {
       "output_type": "stream",
       "stream": "stdout",
       "text": [
        "[ 1.4  1.4  1.4  1.4  1.4  1.4  1.4  1.4  1.2  1.2  1.2  1.2  1.   1.   1.\n",
        "  1.   1.   1.   1.   1.   1.   0.8  0.8  0.6  0.6  0.6  0.6  0.6  0.6  0.6\n",
        "  0.6  0.6  0.6  0.6  0.6  0.6  0.6  0.6  0.6  0.6  0.6  0.6  0.6  0.6  0.6\n",
        "  0.6  0.6  0.6  0.6  0.6  0.4  0.4  0.2  0.2  0.2  0.2  0.2  0.2  0.2  0.2\n",
        "  0.2  0.2  0.2  0.2  0.2  0.2  0.2  0.2  0.2  0.2  0.2  0.2  0.2  0.2  0.2\n",
        "  0.2  0.2  0.2  0.2  0.2  0.2  0.2  0.2  0.   0.   0.   0.   0.   0.   0.\n",
        "  0.   0.   0.   0.   0.   0.   0.   0.   0.   0.   0.   0.   0.   0.   0.\n",
        "  0.   0.   0.   0.   0.   0.   0.   0.   0.   0.   0.   0.   0.   0.   0.\n",
        "  0.   0.   0.   0.   0.   0.   0.   0.   0.   0.   0.   0.   0.   0.   0.\n",
        "  0.   0.   0.   0.   0.   0.   0.   0.   0.   0.   0.   0.   0.   0.   0. ]\n"
       ]
      }
     ],
     "prompt_number": 60
    },
    {
     "cell_type": "code",
     "collapsed": false,
     "input": [
      "t = arange(0,150,1)\n",
      "plot(t, CA184_vavg,lw=2)\n",
      "xlabel('Time')\n",
      "ylabel('Velocity')\n",
      "title('CA184 Average Velocity vs. Time Plot')\n",
      "show()"
     ],
     "language": "python",
     "metadata": {},
     "outputs": [
      {
       "output_type": "display_data",
       "png": "[encoded data removed]"
      }
     ],
     "prompt_number": 61
    },
    {
     "cell_type": "markdown",
     "metadata": {},
     "source": [
      "Makes sense, the graph goes to zero because cars all stop at the end of the road length"
     ]
    },
    {
     "cell_type": "markdown",
     "metadata": {},
     "source": [
      "Now plotting STCA"
     ]
    },
    {
     "cell_type": "code",
     "collapsed": false,
     "input": [
      "def plotSTCA(x,v,n,l):\n",
      "    \"\"\"will return the array with the new positions and velocities after one time step\"\"\"\n",
      "    for i in range(n):\n",
      "        if i+1 < n: #calculating values of g\n",
      "            g[i] = int(x[i+1] -x[i]) #show how much space until next car\n",
      "        else:\n",
      "            g[i] = l - x[i] \n",
      "            \n",
      "    for i in range(len(x)): #for each step in random array in positions\n",
      "        if g[i] == 0: # if distance to next car is 0, speed is 0\n",
      "            v[i] = 0 #set velocity equal to 0\n",
      "        elif v[i] > g[i]: # if speed is greater than distance to next car\n",
      "            v[i] = g[i] #set speed equal to g\n",
      "        elif v[i] < g[i] and v[i] == vmax: # if velocity is less than distance to next car and equal to vmax\n",
      "            v[i] = v[i] + 1 #increase velocity by 1 unit\n",
      "        for j in range(len(v)): #for each step in a range of velocities\n",
      "            if 0 > v[j]:\n",
      "                p = round(random_sample(1))\n",
      "                v[j] = (v[j]-1)*p\n",
      "        x[i] += v[i] #adjust position to account for change in velocity\n",
      "        if x[i] > l:\n",
      "            x[i] = x[i] - l\n",
      "        return x,v,n,l"
     ],
     "language": "python",
     "metadata": {},
     "outputs": [],
     "prompt_number": 66
    },
    {
     "cell_type": "code",
     "collapsed": false,
     "input": [
      "#should be exactly the same as avgCA184 but with STCA function\n",
      "s = 150 #number of steps\n",
      "init = initial(200,5,5) \n",
      "STCAavg = np.zeros(s) \n",
      "for i in range(s):\n",
      "    init = plotSTCA(init[0],init[1],init[2],init[3]) #finding the average\n",
      "    STCAavg[i] = np.sum(init[0])/len(init[0]) \n",
      "print STCAavg"
     ],
     "language": "python",
     "metadata": {},
     "outputs": [
      {
       "output_type": "stream",
       "stream": "stdout",
       "text": [
        "[ 77.  77.  77.  77.  77.  77.  77.  77.  77.  77.  77.  77.  77.  77.  77.\n",
        "  77.  77.  77.  77.  77.  77.  77.  77.  77.  77.  77.  77.  77.  77.  77.\n",
        "  77.  77.  77.  77.  77.  77.  77.  77.  77.  77.  77.  77.  77.  77.  77.\n",
        "  77.  77.  77.  77.  77.  77.  77.  77.  77.  77.  77.  77.  77.  77.  77.\n",
        "  77.  77.  77.  77.  77.  77.  77.  77.  77.  77.  77.  77.  77.  77.  77.\n",
        "  77.  77.  77.  77.  77.  77.  77.  77.  77.  77.  77.  77.  77.  77.  77.\n",
        "  77.  77.  77.  77.  77.  77.  77.  77.  77.  77.  77.  77.  77.  77.  77.\n",
        "  77.  77.  77.  77.  77.  77.  77.  77.  77.  77.  77.  77.  77.  77.  77.\n",
        "  77.  77.  77.  77.  77.  77.  77.  77.  77.  77.  77.  77.  77.  77.  77.\n",
        "  77.  77.  77.  77.  77.  77.  77.  77.  77.  77.  77.  77.  77.  77.  77.]\n"
       ]
      }
     ],
     "prompt_number": 67
    },
    {
     "cell_type": "code",
     "collapsed": false,
     "input": [
      "t = arange(0,150,1)\n",
      "plot(t, STCAavg,lw=2)\n",
      "xlabel('Time')\n",
      "ylabel('Positions')\n",
      "title('STCA Position vs. Time Plot')\n",
      "show()"
     ],
     "language": "python",
     "metadata": {},
     "outputs": [
      {
       "output_type": "display_data",
       "png": "[encoded data removed]"
      }
     ],
     "prompt_number": 68
    },
    {
     "cell_type": "markdown",
     "metadata": {},
     "source": [
      "not sure why I only get 77, I did exactly the same thing as CA184?"
     ]
    },
    {
     "cell_type": "code",
     "collapsed": false,
     "input": [
      "STCA_c = STCAavg*d #same number of cars and spots so density has not changed\n",
      "print STCA_c"
     ],
     "language": "python",
     "metadata": {},
     "outputs": [
      {
       "output_type": "stream",
       "stream": "stdout",
       "text": [
        "[ 1.925  1.925  1.925  1.925  1.925  1.925  1.925  1.925  1.925  1.925\n",
        "  1.925  1.925  1.925  1.925  1.925  1.925  1.925  1.925  1.925  1.925\n",
        "  1.925  1.925  1.925  1.925  1.925  1.925  1.925  1.925  1.925  1.925\n",
        "  1.925  1.925  1.925  1.925  1.925  1.925  1.925  1.925  1.925  1.925\n",
        "  1.925  1.925  1.925  1.925  1.925  1.925  1.925  1.925  1.925  1.925\n",
        "  1.925  1.925  1.925  1.925  1.925  1.925  1.925  1.925  1.925  1.925\n",
        "  1.925  1.925  1.925  1.925  1.925  1.925  1.925  1.925  1.925  1.925\n",
        "  1.925  1.925  1.925  1.925  1.925  1.925  1.925  1.925  1.925  1.925\n",
        "  1.925  1.925  1.925  1.925  1.925  1.925  1.925  1.925  1.925  1.925\n",
        "  1.925  1.925  1.925  1.925  1.925  1.925  1.925  1.925  1.925  1.925\n",
        "  1.925  1.925  1.925  1.925  1.925  1.925  1.925  1.925  1.925  1.925\n",
        "  1.925  1.925  1.925  1.925  1.925  1.925  1.925  1.925  1.925  1.925\n",
        "  1.925  1.925  1.925  1.925  1.925  1.925  1.925  1.925  1.925  1.925\n",
        "  1.925  1.925  1.925  1.925  1.925  1.925  1.925  1.925  1.925  1.925\n",
        "  1.925  1.925  1.925  1.925  1.925  1.925  1.925  1.925  1.925  1.925]\n"
       ]
      }
     ],
     "prompt_number": 69
    },
    {
     "cell_type": "code",
     "collapsed": false,
     "input": [
      "t = arange(0,150,1)\n",
      "plot(t,STCA_c)\n",
      "xlabel('Time')\n",
      "ylabel('Current')\n",
      "title('STCA Current vs. Time Plot')\n",
      "show()"
     ],
     "language": "python",
     "metadata": {},
     "outputs": [
      {
       "output_type": "display_data",
       "png": "[encoded data removed]"
      }
     ],
     "prompt_number": 70
    },
    {
     "cell_type": "markdown",
     "metadata": {},
     "source": [
      "Again, there is something wrong with my STCA function so it is a straight line plot"
     ]
    },
    {
     "cell_type": "code",
     "collapsed": false,
     "input": [
      "s = 150\n",
      "#essentially same as average position but with velocity\n",
      "init = initial(200,5,5)\n",
      "STCA_vavg = np.zeros(s)\n",
      "for i in range(s):\n",
      "    init = plotCA184(init[0],init[1],init[2],init[3])\n",
      "    STCA_vavg[i] = np.sum(init[1])/len(init[1])\n",
      "print STCA_vavg"
     ],
     "language": "python",
     "metadata": {},
     "outputs": [
      {
       "output_type": "stream",
       "stream": "stdout",
       "text": [
        "[ 1.4  1.4  1.4  1.4  1.4  1.4  1.4  1.4  1.2  1.2  1.2  1.2  1.   1.   1.\n",
        "  1.   1.   1.   1.   1.   1.   0.8  0.8  0.6  0.6  0.6  0.6  0.6  0.6  0.6\n",
        "  0.6  0.6  0.6  0.6  0.6  0.6  0.6  0.6  0.6  0.6  0.6  0.6  0.6  0.6  0.6\n",
        "  0.6  0.6  0.6  0.6  0.6  0.4  0.4  0.2  0.2  0.2  0.2  0.2  0.2  0.2  0.2\n",
        "  0.2  0.2  0.2  0.2  0.2  0.2  0.2  0.2  0.2  0.2  0.2  0.2  0.2  0.2  0.2\n",
        "  0.2  0.2  0.2  0.2  0.2  0.2  0.2  0.2  0.   0.   0.   0.   0.   0.   0.\n",
        "  0.   0.   0.   0.   0.   0.   0.   0.   0.   0.   0.   0.   0.   0.   0.\n",
        "  0.   0.   0.   0.   0.   0.   0.   0.   0.   0.   0.   0.   0.   0.   0.\n",
        "  0.   0.   0.   0.   0.   0.   0.   0.   0.   0.   0.   0.   0.   0.   0.\n",
        "  0.   0.   0.   0.   0.   0.   0.   0.   0.   0.   0.   0.   0.   0.   0. ]\n"
       ]
      }
     ],
     "prompt_number": 71
    },
    {
     "cell_type": "code",
     "collapsed": false,
     "input": [
      "t = arange(0,150,1)\n",
      "plot(t, STCA_vavg,lw=2)\n",
      "xlabel('Time')\n",
      "ylabel('Velocity')\n",
      "title('STCA Average Velocity vs. Time Plot')\n",
      "show()"
     ],
     "language": "python",
     "metadata": {},
     "outputs": [
      {
       "output_type": "display_data",
       "png": "[encoded data removed]"
      }
     ],
     "prompt_number": 72
    },
    {
     "cell_type": "markdown",
     "metadata": {},
     "source": [
      "This average velocity plot looks good."
     ]
    },
    {
     "cell_type": "markdown",
     "metadata": {},
     "source": [
      "Plotting ASEP"
     ]
    },
    {
     "cell_type": "code",
     "collapsed": false,
     "input": [
      "def plotASEP(x,v,n,l):\n",
      "    \"\"\"return adjusted positions, velocities, and spaces between cars\"\"\"\n",
      "    g = np.zeros(n) #number of empty spaces\n",
      "    i = random.randrange(0,len(x),1) #randomly choose car position\n",
      "    if v[i] > g[i]: # if speed is greater than distance to next car\n",
      "        v[i] = g[i] #set speed equal to g\n",
      "    elif v[i] < g[i] and v1[i] == vmax: # if velocity is less than distance to next car and is equal to vmax\n",
      "        v[i] = v[i] + 1 #velocity goes up by 1\n",
      "    for k in range(len(v)): \n",
      "        if v[k] < 0:\n",
      "            p = random_sample(1)\n",
      "            v[j] = (v[j]-1)*p\n",
      "    x[i] += v[i]\n",
      "    if l < x[i]:\n",
      "        x[i] = x[i] - l\n",
      "    for i in range(len(x)):\n",
      "        if i < n-1:\n",
      "            g[i] = x[i+1] - x[i] - 1\n",
      "        else:\n",
      "            g[i] = l - x[i]-1\n",
      "    return x, v, n, l"
     ],
     "language": "python",
     "metadata": {},
     "outputs": [],
     "prompt_number": 74
    },
    {
     "cell_type": "code",
     "collapsed": false,
     "input": [
      "#should be exactly the same as avgCA184 but with ASEP function\n",
      "s = 150 #number of steps\n",
      "init = initial(200,5,5) \n",
      "ASEPavg = np.zeros(s) \n",
      "for i in range(s):\n",
      "    init = plotASEP(init[0],init[1],init[2],init[3]) #finding the average\n",
      "    ASEPavg[i] = np.sum(init[0])/len(init[0]) \n",
      "print ASEPavg"
     ],
     "language": "python",
     "metadata": {},
     "outputs": [
      {
       "output_type": "stream",
       "stream": "stdout",
       "text": [
        "[ 77.  77.  77.  77.  77.  77.  77.  77.  77.  77.  77.  77.  77.  77.  77.\n",
        "  77.  77.  77.  77.  77.  77.  77.  77.  77.  77.  77.  77.  77.  77.  77.\n",
        "  77.  77.  77.  77.  77.  77.  77.  77.  77.  77.  77.  77.  77.  77.  77.\n",
        "  77.  77.  77.  77.  77.  77.  77.  77.  77.  77.  77.  77.  77.  77.  77.\n",
        "  77.  77.  77.  77.  77.  77.  77.  77.  77.  77.  77.  77.  77.  77.  77.\n",
        "  77.  77.  77.  77.  77.  77.  77.  77.  77.  77.  77.  77.  77.  77.  77.\n",
        "  77.  77.  77.  77.  77.  77.  77.  77.  77.  77.  77.  77.  77.  77.  77.\n",
        "  77.  77.  77.  77.  77.  77.  77.  77.  77.  77.  77.  77.  77.  77.  77.\n",
        "  77.  77.  77.  77.  77.  77.  77.  77.  77.  77.  77.  77.  77.  77.  77.\n",
        "  77.  77.  77.  77.  77.  77.  77.  77.  77.  77.  77.  77.  77.  77.  77.]\n"
       ]
      }
     ],
     "prompt_number": 75
    },
    {
     "cell_type": "markdown",
     "metadata": {},
     "source": [
      "again, i get straight 77's for my average position function...i don't get it!"
     ]
    },
    {
     "cell_type": "code",
     "collapsed": false,
     "input": [
      "t = arange(0,150,1)\n",
      "plot(t, ASEPavg,lw=2)\n",
      "xlabel('Time')\n",
      "ylabel('Position')\n",
      "title('ASEP Average Position vs. Time Plot')\n",
      "show()"
     ],
     "language": "python",
     "metadata": {},
     "outputs": [
      {
       "output_type": "display_data",
       "png": "[encoded data removed]"
      }
     ],
     "prompt_number": 76
    },
    {
     "cell_type": "code",
     "collapsed": false,
     "input": [
      "ASEP_c = ASEPavg*d #current is just multiplied by density so it will still be a straight line across\n",
      "t = arange(0,150,1)\n",
      "plot(t,ASEP_c)\n",
      "xlabel('Time')\n",
      "ylabel('Current')\n",
      "title('ASEP Current vs. Time Plot')\n",
      "show()"
     ],
     "language": "python",
     "metadata": {},
     "outputs": [
      {
       "output_type": "display_data",
       "png": "[encoded data removed]"
      }
     ],
     "prompt_number": 77
    },
    {
     "cell_type": "code",
     "collapsed": false,
     "input": [
      "s = 150\n",
      "#essentially same as average position but with velocity\n",
      "init = initial(200,5,5)\n",
      "ASEP_vavg = np.zeros(s)\n",
      "for i in range(s):\n",
      "    init = plotASEP(init[0],init[1],init[2],init[3])\n",
      "    ASEP_vavg[i] = np.sum(init[1])/len(init[1])\n",
      "print ASEP_vavg"
     ],
     "language": "python",
     "metadata": {},
     "outputs": [
      {
       "output_type": "stream",
       "stream": "stdout",
       "text": [
        "[ 0.8  0.6  0.4  0.4  0.   0.   0.   0.   0.   0.   0.   0.   0.   0.   0.\n",
        "  0.   0.   0.   0.   0.   0.   0.   0.   0.   0.   0.   0.   0.   0.   0.\n",
        "  0.   0.   0.   0.   0.   0.   0.   0.   0.   0.   0.   0.   0.   0.   0.\n",
        "  0.   0.   0.   0.   0.   0.   0.   0.   0.   0.   0.   0.   0.   0.   0.\n",
        "  0.   0.   0.   0.   0.   0.   0.   0.   0.   0.   0.   0.   0.   0.   0.\n",
        "  0.   0.   0.   0.   0.   0.   0.   0.   0.   0.   0.   0.   0.   0.   0.\n",
        "  0.   0.   0.   0.   0.   0.   0.   0.   0.   0.   0.   0.   0.   0.   0.\n",
        "  0.   0.   0.   0.   0.   0.   0.   0.   0.   0.   0.   0.   0.   0.   0.\n",
        "  0.   0.   0.   0.   0.   0.   0.   0.   0.   0.   0.   0.   0.   0.   0.\n",
        "  0.   0.   0.   0.   0.   0.   0.   0.   0.   0.   0.   0.   0.   0.   0. ]\n"
       ]
      }
     ],
     "prompt_number": 78
    },
    {
     "cell_type": "code",
     "collapsed": false,
     "input": [
      "t = arange(0,150,1)\n",
      "plot(t, ASEP_vavg,lw=2)\n",
      "xlabel('time')\n",
      "ylabel('velocity')\n",
      "title('ASEP Average Velocity vs.Time Plot')\n",
      "show()"
     ],
     "language": "python",
     "metadata": {},
     "outputs": [
      {
       "output_type": "display_data",
       "png": "[encoded data removed]"
      }
     ],
     "prompt_number": 80
    },
    {
     "cell_type": "markdown",
     "metadata": {},
     "source": [
      "Looks good! Plots are done."
     ]
    },
    {
     "cell_type": "code",
     "collapsed": false,
     "input": [
      "density = arange(0.01,0.81,0.01)\n",
      "plot(density,STCA_vavg)\n",
      "xlabel('Density')\n",
      "ylabel('Average Velocity')\n",
      "show()"
     ],
     "language": "python",
     "metadata": {},
     "outputs": [
      {
       "ename": "ValueError",
       "evalue": "x and y must have same first dimension",
       "output_type": "pyerr",
       "traceback": [
        "\u001b[1;31m---------------------------------------------------------------------------\u001b[0m\n\u001b[1;31mValueError\u001b[0m                                Traceback (most recent call last)",
        "\u001b[1;32m<ipython-input-88-746b20621dfe>\u001b[0m in \u001b[0;36m<module>\u001b[1;34m()\u001b[0m\n\u001b[0;32m      1\u001b[0m \u001b[0mdensity\u001b[0m \u001b[1;33m=\u001b[0m \u001b[0marange\u001b[0m\u001b[1;33m(\u001b[0m\u001b[1;36m0.01\u001b[0m\u001b[1;33m,\u001b[0m\u001b[1;36m0.81\u001b[0m\u001b[1;33m,\u001b[0m\u001b[1;36m0.01\u001b[0m\u001b[1;33m)\u001b[0m\u001b[1;33m\u001b[0m\u001b[0m\n\u001b[1;32m----> 2\u001b[1;33m \u001b[0mplot\u001b[0m\u001b[1;33m(\u001b[0m\u001b[0mdensity\u001b[0m\u001b[1;33m,\u001b[0m\u001b[0mSTCA_vavg\u001b[0m\u001b[1;33m)\u001b[0m\u001b[1;33m\u001b[0m\u001b[0m\n\u001b[0m\u001b[0;32m      3\u001b[0m \u001b[0mxlabel\u001b[0m\u001b[1;33m(\u001b[0m\u001b[1;34m'Density'\u001b[0m\u001b[1;33m)\u001b[0m\u001b[1;33m\u001b[0m\u001b[0m\n\u001b[0;32m      4\u001b[0m \u001b[0mylabel\u001b[0m\u001b[1;33m(\u001b[0m\u001b[1;34m'Average Velocity'\u001b[0m\u001b[1;33m)\u001b[0m\u001b[1;33m\u001b[0m\u001b[0m\n\u001b[0;32m      5\u001b[0m \u001b[0mshow\u001b[0m\u001b[1;33m(\u001b[0m\u001b[1;33m)\u001b[0m\u001b[1;33m\u001b[0m\u001b[0m\n",
        "\u001b[1;32m/usr/local/lib/python2.7/dist-packages/matplotlib/pyplot.pyc\u001b[0m in \u001b[0;36mplot\u001b[1;34m(*args, **kwargs)\u001b[0m\n\u001b[0;32m   2830\u001b[0m         \u001b[0max\u001b[0m\u001b[1;33m.\u001b[0m\u001b[0mhold\u001b[0m\u001b[1;33m(\u001b[0m\u001b[0mhold\u001b[0m\u001b[1;33m)\u001b[0m\u001b[1;33m\u001b[0m\u001b[0m\n\u001b[0;32m   2831\u001b[0m     \u001b[1;32mtry\u001b[0m\u001b[1;33m:\u001b[0m\u001b[1;33m\u001b[0m\u001b[0m\n\u001b[1;32m-> 2832\u001b[1;33m         \u001b[0mret\u001b[0m \u001b[1;33m=\u001b[0m \u001b[0max\u001b[0m\u001b[1;33m.\u001b[0m\u001b[0mplot\u001b[0m\u001b[1;33m(\u001b[0m\u001b[1;33m*\u001b[0m\u001b[0margs\u001b[0m\u001b[1;33m,\u001b[0m \u001b[1;33m**\u001b[0m\u001b[0mkwargs\u001b[0m\u001b[1;33m)\u001b[0m\u001b[1;33m\u001b[0m\u001b[0m\n\u001b[0m\u001b[0;32m   2833\u001b[0m         \u001b[0mdraw_if_interactive\u001b[0m\u001b[1;33m(\u001b[0m\u001b[1;33m)\u001b[0m\u001b[1;33m\u001b[0m\u001b[0m\n\u001b[0;32m   2834\u001b[0m     \u001b[1;32mfinally\u001b[0m\u001b[1;33m:\u001b[0m\u001b[1;33m\u001b[0m\u001b[0m\n",
        "\u001b[1;32m/usr/local/lib/python2.7/dist-packages/matplotlib/axes.pyc\u001b[0m in \u001b[0;36mplot\u001b[1;34m(self, *args, **kwargs)\u001b[0m\n\u001b[0;32m   3994\u001b[0m         \u001b[0mlines\u001b[0m \u001b[1;33m=\u001b[0m \u001b[1;33m[\u001b[0m\u001b[1;33m]\u001b[0m\u001b[1;33m\u001b[0m\u001b[0m\n\u001b[0;32m   3995\u001b[0m \u001b[1;33m\u001b[0m\u001b[0m\n\u001b[1;32m-> 3996\u001b[1;33m         \u001b[1;32mfor\u001b[0m \u001b[0mline\u001b[0m \u001b[1;32min\u001b[0m \u001b[0mself\u001b[0m\u001b[1;33m.\u001b[0m\u001b[0m_get_lines\u001b[0m\u001b[1;33m(\u001b[0m\u001b[1;33m*\u001b[0m\u001b[0margs\u001b[0m\u001b[1;33m,\u001b[0m \u001b[1;33m**\u001b[0m\u001b[0mkwargs\u001b[0m\u001b[1;33m)\u001b[0m\u001b[1;33m:\u001b[0m\u001b[1;33m\u001b[0m\u001b[0m\n\u001b[0m\u001b[0;32m   3997\u001b[0m             \u001b[0mself\u001b[0m\u001b[1;33m.\u001b[0m\u001b[0madd_line\u001b[0m\u001b[1;33m(\u001b[0m\u001b[0mline\u001b[0m\u001b[1;33m)\u001b[0m\u001b[1;33m\u001b[0m\u001b[0m\n\u001b[0;32m   3998\u001b[0m             \u001b[0mlines\u001b[0m\u001b[1;33m.\u001b[0m\u001b[0mappend\u001b[0m\u001b[1;33m(\u001b[0m\u001b[0mline\u001b[0m\u001b[1;33m)\u001b[0m\u001b[1;33m\u001b[0m\u001b[0m\n",
        "\u001b[1;32m/usr/local/lib/python2.7/dist-packages/matplotlib/axes.pyc\u001b[0m in \u001b[0;36m_grab_next_args\u001b[1;34m(self, *args, **kwargs)\u001b[0m\n\u001b[0;32m    328\u001b[0m                 \u001b[1;32mreturn\u001b[0m\u001b[1;33m\u001b[0m\u001b[0m\n\u001b[0;32m    329\u001b[0m             \u001b[1;32mif\u001b[0m \u001b[0mlen\u001b[0m\u001b[1;33m(\u001b[0m\u001b[0mremaining\u001b[0m\u001b[1;33m)\u001b[0m \u001b[1;33m<=\u001b[0m \u001b[1;36m3\u001b[0m\u001b[1;33m:\u001b[0m\u001b[1;33m\u001b[0m\u001b[0m\n\u001b[1;32m--> 330\u001b[1;33m                 \u001b[1;32mfor\u001b[0m \u001b[0mseg\u001b[0m \u001b[1;32min\u001b[0m \u001b[0mself\u001b[0m\u001b[1;33m.\u001b[0m\u001b[0m_plot_args\u001b[0m\u001b[1;33m(\u001b[0m\u001b[0mremaining\u001b[0m\u001b[1;33m,\u001b[0m \u001b[0mkwargs\u001b[0m\u001b[1;33m)\u001b[0m\u001b[1;33m:\u001b[0m\u001b[1;33m\u001b[0m\u001b[0m\n\u001b[0m\u001b[0;32m    331\u001b[0m                     \u001b[1;32myield\u001b[0m \u001b[0mseg\u001b[0m\u001b[1;33m\u001b[0m\u001b[0m\n\u001b[0;32m    332\u001b[0m                 \u001b[1;32mreturn\u001b[0m\u001b[1;33m\u001b[0m\u001b[0m\n",
        "\u001b[1;32m/usr/local/lib/python2.7/dist-packages/matplotlib/axes.pyc\u001b[0m in \u001b[0;36m_plot_args\u001b[1;34m(self, tup, kwargs)\u001b[0m\n\u001b[0;32m    306\u001b[0m             \u001b[0mx\u001b[0m \u001b[1;33m=\u001b[0m \u001b[0mnp\u001b[0m\u001b[1;33m.\u001b[0m\u001b[0marange\u001b[0m\u001b[1;33m(\u001b[0m\u001b[0my\u001b[0m\u001b[1;33m.\u001b[0m\u001b[0mshape\u001b[0m\u001b[1;33m[\u001b[0m\u001b[1;36m0\u001b[0m\u001b[1;33m]\u001b[0m\u001b[1;33m,\u001b[0m \u001b[0mdtype\u001b[0m\u001b[1;33m=\u001b[0m\u001b[0mfloat\u001b[0m\u001b[1;33m)\u001b[0m\u001b[1;33m\u001b[0m\u001b[0m\n\u001b[0;32m    307\u001b[0m \u001b[1;33m\u001b[0m\u001b[0m\n\u001b[1;32m--> 308\u001b[1;33m         \u001b[0mx\u001b[0m\u001b[1;33m,\u001b[0m \u001b[0my\u001b[0m \u001b[1;33m=\u001b[0m \u001b[0mself\u001b[0m\u001b[1;33m.\u001b[0m\u001b[0m_xy_from_xy\u001b[0m\u001b[1;33m(\u001b[0m\u001b[0mx\u001b[0m\u001b[1;33m,\u001b[0m \u001b[0my\u001b[0m\u001b[1;33m)\u001b[0m\u001b[1;33m\u001b[0m\u001b[0m\n\u001b[0m\u001b[0;32m    309\u001b[0m \u001b[1;33m\u001b[0m\u001b[0m\n\u001b[0;32m    310\u001b[0m         \u001b[1;32mif\u001b[0m \u001b[0mself\u001b[0m\u001b[1;33m.\u001b[0m\u001b[0mcommand\u001b[0m \u001b[1;33m==\u001b[0m \u001b[1;34m'plot'\u001b[0m\u001b[1;33m:\u001b[0m\u001b[1;33m\u001b[0m\u001b[0m\n",
        "\u001b[1;32m/usr/local/lib/python2.7/dist-packages/matplotlib/axes.pyc\u001b[0m in \u001b[0;36m_xy_from_xy\u001b[1;34m(self, x, y)\u001b[0m\n\u001b[0;32m    246\u001b[0m         \u001b[0my\u001b[0m \u001b[1;33m=\u001b[0m \u001b[0mnp\u001b[0m\u001b[1;33m.\u001b[0m\u001b[0matleast_1d\u001b[0m\u001b[1;33m(\u001b[0m\u001b[0my\u001b[0m\u001b[1;33m)\u001b[0m\u001b[1;33m\u001b[0m\u001b[0m\n\u001b[0;32m    247\u001b[0m         \u001b[1;32mif\u001b[0m \u001b[0mx\u001b[0m\u001b[1;33m.\u001b[0m\u001b[0mshape\u001b[0m\u001b[1;33m[\u001b[0m\u001b[1;36m0\u001b[0m\u001b[1;33m]\u001b[0m \u001b[1;33m!=\u001b[0m \u001b[0my\u001b[0m\u001b[1;33m.\u001b[0m\u001b[0mshape\u001b[0m\u001b[1;33m[\u001b[0m\u001b[1;36m0\u001b[0m\u001b[1;33m]\u001b[0m\u001b[1;33m:\u001b[0m\u001b[1;33m\u001b[0m\u001b[0m\n\u001b[1;32m--> 248\u001b[1;33m             \u001b[1;32mraise\u001b[0m \u001b[0mValueError\u001b[0m\u001b[1;33m(\u001b[0m\u001b[1;34m\"x and y must have same first dimension\"\u001b[0m\u001b[1;33m)\u001b[0m\u001b[1;33m\u001b[0m\u001b[0m\n\u001b[0m\u001b[0;32m    249\u001b[0m         \u001b[1;32mif\u001b[0m \u001b[0mx\u001b[0m\u001b[1;33m.\u001b[0m\u001b[0mndim\u001b[0m \u001b[1;33m>\u001b[0m \u001b[1;36m2\u001b[0m \u001b[1;32mor\u001b[0m \u001b[0my\u001b[0m\u001b[1;33m.\u001b[0m\u001b[0mndim\u001b[0m \u001b[1;33m>\u001b[0m \u001b[1;36m2\u001b[0m\u001b[1;33m:\u001b[0m\u001b[1;33m\u001b[0m\u001b[0m\n\u001b[0;32m    250\u001b[0m             \u001b[1;32mraise\u001b[0m \u001b[0mValueError\u001b[0m\u001b[1;33m(\u001b[0m\u001b[1;34m\"x and y can be no greater than 2-D\"\u001b[0m\u001b[1;33m)\u001b[0m\u001b[1;33m\u001b[0m\u001b[0m\n",
        "\u001b[1;31mValueError\u001b[0m: x and y must have same first dimension"
       ]
      },
      {
       "output_type": "display_data",
       "png": "[encoded data removed]"
      }
     ],
     "prompt_number": 88
    },
    {
     "cell_type": "code",
     "collapsed": false,
     "input": [
      "import sys\n",
      "sys.path.insert(0,\"/nfshome/rbnewens/JSAnimation\")\n",
      "from JSAnimation import IPython_display\n",
      "from matplotlib import animation\n",
      "from JSAnimation.IPython_display import display_animation"
     ],
     "language": "python",
     "metadata": {},
     "outputs": [],
     "prompt_number": 82
    },
    {
     "cell_type": "markdown",
     "metadata": {},
     "source": [
      "A shot at animation"
     ]
    },
    {
     "cell_type": "code",
     "collapsed": false,
     "input": [
      "#from JSAnimation.IPython_display import display_animation\n",
      "from JSAnimation import IPython_display\n",
      "from matplotlib import animation\n",
      "\n",
      "# create a simple animation\n",
      "fig = plt.figure()\n",
      "ax = plt.axes(xlim=(0, 10), ylim=(-2, 2))\n",
      "line, = ax.plot([], [], lw=2)\n",
      "\n",
      "x = np.linspace(0, 10, 1000)\n",
      "\n",
      "def init():\n",
      "    line.set_data([], [])\n",
      "    return line,\n",
      "\n",
      "def animate(i):\n",
      "    \n",
      "\n",
      "animation.FuncAnimation(fig, animate, init_func=init,\n",
      "                        frames=100, interval=20, blit=True)\n",
      " "
     ],
     "language": "python",
     "metadata": {},
     "outputs": [
      {
       "ename": "IndentationError",
       "evalue": "expected an indented block (<ipython-input-89-04e6141ae7ce>, line 19)",
       "output_type": "pyerr",
       "traceback": [
        "\u001b[1;36m  File \u001b[1;32m\"<ipython-input-89-04e6141ae7ce>\"\u001b[1;36m, line \u001b[1;32m19\u001b[0m\n\u001b[1;33m    animation.FuncAnimation(fig, animate, init_func=init,\u001b[0m\n\u001b[1;37m            ^\u001b[0m\n\u001b[1;31mIndentationError\u001b[0m\u001b[1;31m:\u001b[0m expected an indented block\n"
       ]
      }
     ],
     "prompt_number": 89
    },
    {
     "cell_type": "markdown",
     "metadata": {},
     "source": [
      "These animations are impossible"
     ]
    },
    {
     "cell_type": "code",
     "collapsed": false,
     "input": [],
     "language": "python",
     "metadata": {},
     "outputs": []
    }
   ],
   "metadata": {}
  }
 ]
}