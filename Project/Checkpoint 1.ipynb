{
 "metadata": {
  "name": "Checkpoint 1"
 },
 "nbformat": 3,
 "nbformat_minor": 0,
 "worksheets": [
  {
   "cells": [
    {
     "cell_type": "markdown",
     "metadata": {},
     "source": [
      "Checkpoint 1 for project 2"
     ]
    },
    {
     "cell_type": "code",
     "collapsed": false,
     "input": [
      "import numpy as np\n",
      "import math"
     ],
     "language": "python",
     "metadata": {},
     "outputs": [],
     "prompt_number": 64
    },
    {
     "cell_type": "code",
     "collapsed": false,
     "input": [
      "l = arange(1,41)\n",
      "n = 5 #5 cars\n"
     ],
     "language": "python",
     "metadata": {},
     "outputs": [],
     "prompt_number": 65
    },
    {
     "cell_type": "code",
     "collapsed": false,
     "input": [
      "x_0 = np.random.random(n)*40\n",
      "x = sort(x_0.round()) #position array\n",
      "v_0 = np.random.random(n)*70\n",
      "vmax = 70\n",
      "v = v_0.round() #velocity array\n",
      "g = np.zeros(5) #space infront"
     ],
     "language": "python",
     "metadata": {},
     "outputs": [],
     "prompt_number": 66
    },
    {
     "cell_type": "code",
     "collapsed": false,
     "input": [
      "def CA184(l,x,v):\n",
      "    \"\"\"Takes an array of car positions and velocities along with the road length as arguments. The function will return the array with the new positions and velocities after one time step\"\"\"\n",
      "    for i in range(n):\n",
      "        if i+1 < n: #calculating values of g\n",
      "            g[i] = int(x[i+1] -x[i]) #show how much space until next car\n",
      "        else:\n",
      "            g[i] = l - x[i] #if it is the last car, show how far to the end\n",
      "    for i in range(n):\n",
      "        if g[i] == 0:#no space in front\n",
      "            v[i] = 0 #car does not move\n",
      "        elif v[i] > g[i]:#if speed greater than space infont\n",
      "            g[i] = v[i] #slow down to v=g\n",
      "            x[i] += v[i] #position changes\n",
      "        elif v[i] < g[i] and v[i] < vmax:  #if speed less than space in front \n",
      "            v[i] = v[i] + 1 #increase speed by 1\n",
      "            x[i] += v[i] #position changes\n",
      "        if v[i] > 0: #if speed is greater than zero\n",
      "            v[i] = v[i] - 1 #allow random slowdowns\n",
      "      \n",
      "   \n",
      "    print 'new position:', x\n",
      "    print 'new velocity:', v\n",
      "    print 'space inbetween:',g"
     ],
     "language": "python",
     "metadata": {},
     "outputs": [],
     "prompt_number": 67
    },
    {
     "cell_type": "code",
     "collapsed": false,
     "input": [
      "#original positions and velocities\n",
      "print x\n",
      "print v\n",
      "print g"
     ],
     "language": "python",
     "metadata": {},
     "outputs": [
      {
       "output_type": "stream",
       "stream": "stdout",
       "text": [
        "[  3.  18.  28.  33.  40.]\n",
        "[  5.  64.  45.  27.   5.]\n",
        "[ 0.  0.  0.  0.  0.]\n"
       ]
      }
     ],
     "prompt_number": 68
    },
    {
     "cell_type": "code",
     "collapsed": false,
     "input": [
      "#new positions, velocities and space\n",
      "CA184(40,x,v)"
     ],
     "language": "python",
     "metadata": {},
     "outputs": [
      {
       "output_type": "stream",
       "stream": "stdout",
       "text": [
        "new position: [  9.  82.  73.  60.  40.]\n",
        "new velocity: [  5.  63.  44.  26.   0.]\n",
        "space inbetween: [ 15.  64.  45.  27.   0.]\n"
       ]
      }
     ],
     "prompt_number": 69
    },
    {
     "cell_type": "markdown",
     "metadata": {},
     "source": [
      "Again"
     ]
    },
    {
     "cell_type": "code",
     "collapsed": false,
     "input": [
      "print x\n",
      "print v\n",
      "print g\n",
      "CA184(40,x,v)"
     ],
     "language": "python",
     "metadata": {},
     "outputs": [
      {
       "output_type": "stream",
       "stream": "stdout",
       "text": [
        "[  9.  82.  73.  60.  40.]\n",
        "[  5.  63.  44.  26.   0.]\n",
        "[ 15.  64.  45.  27.   0.]\n",
        "new position: [  15.  145.  117.   86.   40.]\n",
        "new velocity: [  5.  62.  43.  25.   0.]\n",
        "space inbetween: [ 73.  63.  44.  26.   0.]\n"
       ]
      }
     ],
     "prompt_number": 70
    },
    {
     "cell_type": "code",
     "collapsed": false,
     "input": [
      "#again\n",
      "print x\n",
      "print v\n",
      "print g\n",
      "CA184(40,x,v)"
     ],
     "language": "python",
     "metadata": {},
     "outputs": [
      {
       "output_type": "stream",
       "stream": "stdout",
       "text": [
        "[  15.  145.  117.   86.   40.]\n",
        "[  5.  62.  43.  25.   0.]\n",
        "[ 73.  63.  44.  26.   0.]\n",
        "new position: [  21.  207.  160.  111.   40.]\n",
        "new velocity: [  5.  61.  42.  24.   0.]\n",
        "space inbetween: [ 130.   62.   43.   25.    0.]\n"
       ]
      }
     ],
     "prompt_number": 71
    },
    {
     "cell_type": "markdown",
     "metadata": {},
     "source": [
      "looks good!!!!....i think"
     ]
    },
    {
     "cell_type": "code",
     "collapsed": false,
     "input": [],
     "language": "python",
     "metadata": {},
     "outputs": []
    }
   ],
   "metadata": {}
  }
 ]
}