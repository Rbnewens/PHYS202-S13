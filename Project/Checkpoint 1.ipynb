{
 "metadata": {
  "name": "Checkpoint 1"
 },
 "nbformat": 3,
 "nbformat_minor": 0,
 "worksheets": [
  {
   "cells": [
    {
     "cell_type": "markdown",
     "metadata": {},
     "source": [
      "Checkpoint 1 for project 2"
     ]
    },
    {
     "cell_type": "code",
     "collapsed": false,
     "input": [
      "import numpy as np\n",
      "import math"
     ],
     "language": "python",
     "metadata": {},
     "outputs": [],
     "prompt_number": 1
    },
    {
     "cell_type": "code",
     "collapsed": false,
     "input": [
      "l = arange(1,41)\n",
      "n = 5 #5 cars\n"
     ],
     "language": "python",
     "metadata": {},
     "outputs": [],
     "prompt_number": 2
    },
    {
     "cell_type": "code",
     "collapsed": false,
     "input": [
      "x_0 = np.random.random(n)*40\n",
      "x = sort(x_0.round()) #position array\n",
      "v_0 = np.random.random(n)*70\n",
      "vmax = 70\n",
      "v = v_0.round() #velocity array\n",
      "g = np.zeros(5) #space infront"
     ],
     "language": "python",
     "metadata": {},
     "outputs": [],
     "prompt_number": 3
    },
    {
     "cell_type": "code",
     "collapsed": false,
     "input": [
      "def CA184(l,x,v):\n",
      "    \"\"\"Takes an array of car positions and velocities along with the road length as arguments. The function will return the array with the new positions and velocities after one time step\"\"\"\n",
      "    for i in range(n):\n",
      "        if i+1 < n: #calculating values of g\n",
      "            g[i] = int(x[i+1] -x[i]) #show how much space until next car\n",
      "        else:\n",
      "            g[i] = l - x[i] #if it is the last car, show how far to the end\n",
      "    for i in range(n):\n",
      "        if g[i] == 0:#no space in front\n",
      "            v[i] = 0 #car does not move\n",
      "        elif v[i] > g[i]:#if speed greater than space infont\n",
      "            g[i] = v[i] #slow down to v=g\n",
      "            x[i] += v[i] #position changes\n",
      "        elif v[i] < g[i] and v[i] < vmax:  #if speed less than space in front \n",
      "            v[i] = v[i] + 1 #increase speed by 1\n",
      "            x[i] += v[i] #position changes\n",
      "        if v[i] > 0: #if speed is greater than zero\n",
      "            v[i] = v[i] - 1 #allow random slowdowns\n",
      "      \n",
      "   \n",
      "    print 'new position:', x\n",
      "    print 'new velocity:', v\n",
      "    print 'space inbetween:',g"
     ],
     "language": "python",
     "metadata": {},
     "outputs": [],
     "prompt_number": 4
    },
    {
     "cell_type": "code",
     "collapsed": false,
     "input": [
      "#original positions and velocities\n",
      "print x\n",
      "print v\n",
      "print g"
     ],
     "language": "python",
     "metadata": {},
     "outputs": [
      {
       "output_type": "stream",
       "stream": "stdout",
       "text": [
        "[  0.   4.  13.  29.  37.]\n",
        "[ 11.  34.  67.  37.  59.]\n",
        "[ 0.  0.  0.  0.  0.]\n"
       ]
      }
     ],
     "prompt_number": 5
    },
    {
     "cell_type": "code",
     "collapsed": false,
     "input": [
      "#new positions, velocities and space\n",
      "CA184(40,x,v)"
     ],
     "language": "python",
     "metadata": {},
     "outputs": [
      {
       "output_type": "stream",
       "stream": "stdout",
       "text": [
        "new position: [ 11.  38.  80.  66.  96.]\n",
        "new velocity: [ 10.  33.  66.  36.  58.]\n",
        "space inbetween: [ 11.  34.  67.  37.  59.]\n"
       ]
      }
     ],
     "prompt_number": 6
    },
    {
     "cell_type": "markdown",
     "metadata": {},
     "source": [
      "Again"
     ]
    },
    {
     "cell_type": "code",
     "collapsed": false,
     "input": [
      "print x\n",
      "print v\n",
      "print g\n",
      "CA184(40,x,v)"
     ],
     "language": "python",
     "metadata": {},
     "outputs": [
      {
       "output_type": "stream",
       "stream": "stdout",
       "text": [
        "[ 11.  38.  80.  66.  96.]\n",
        "[ 10.  33.  66.  36.  58.]\n",
        "[ 11.  34.  67.  37.  59.]\n",
        "new position: [  22.   72.  146.  102.  154.]\n",
        "new velocity: [ 10.  33.  65.  35.  57.]\n",
        "space inbetween: [ 27.  42.  66.  36.  58.]\n"
       ]
      }
     ],
     "prompt_number": 7
    },
    {
     "cell_type": "code",
     "collapsed": false,
     "input": [
      "#again\n",
      "print x\n",
      "print v\n",
      "print g\n",
      "CA184(40,x,v)"
     ],
     "language": "python",
     "metadata": {},
     "outputs": [
      {
       "output_type": "stream",
       "stream": "stdout",
       "text": [
        "[  22.   72.  146.  102.  154.]\n",
        "[ 10.  33.  65.  35.  57.]\n",
        "[ 27.  42.  66.  36.  58.]\n",
        "new position: [  33.  106.  211.  138.  211.]\n",
        "new velocity: [ 10.  33.  64.  35.  56.]\n",
        "space inbetween: [ 50.  74.  65.  52.  57.]\n"
       ]
      }
     ],
     "prompt_number": 8
    },
    {
     "cell_type": "markdown",
     "metadata": {},
     "source": [
      "looks good!!!!....i think"
     ]
    },
    {
     "cell_type": "markdown",
     "metadata": {},
     "source": [
      "Second Checkpoint"
     ]
    },
    {
     "cell_type": "code",
     "collapsed": false,
     "input": [
      "n=10#number of cars\n",
      "x_2 = np.random.random(n)*200\n",
      "v_2 = np.random.random(n)*65\n",
      "x2 = sort(x_2.round())\n",
      "v2 = v_2.round()\n",
      "p = np.random.random(1)\n",
      "vmax = 70"
     ],
     "language": "python",
     "metadata": {},
     "outputs": [],
     "prompt_number": 16
    },
    {
     "cell_type": "code",
     "collapsed": false,
     "input": [
      "def STCA(x2,v2,l):\n",
      "    l=200\n",
      "    g=np.zeros(10) \n",
      "    for i in range(n):\n",
      "        if g[i] == 0:#no empty sites\n",
      "            v2[i] = 0#car does not move\n",
      "        elif v2[i] > g[i]:\n",
      "            v2[i] = g[i] #slow down to v=g\n",
      "            x2[i] += v2[i]\n",
      "        elif v2[i] < g[i] and v2[i] < vmax:\n",
      "            v2[i] += 1\n",
      "            for j in range(n):\n",
      "                if v2[j] < 0:\n",
      "                    v2[j] -= 1*p\n",
      "            x2[i] += v2[i]\n",
      "            if x2[i] > l:\n",
      "                x2[i] = x2[i] - l\n",
      "        for p in range(n):\n",
      "            if p < n - 1:\n",
      "                g[p] = abs(x2[p] - x2[p + 1])\n",
      "            else:\n",
      "                g[p] = l - x2[p] - 1\n",
      "    print x2\n",
      "    print v2\n",
      "    print g"
     ],
     "language": "python",
     "metadata": {},
     "outputs": [],
     "prompt_number": 17
    },
    {
     "cell_type": "code",
     "collapsed": false,
     "input": [
      "x2\n",
      "v2\n",
      "STCA(x2,v2,l)"
     ],
     "language": "python",
     "metadata": {},
     "outputs": [
      {
       "output_type": "stream",
       "stream": "stdout",
       "text": [
        "[  17.   76.   79.  116.  121.  134.  160.  177.  199.  199.]\n",
        "[  0.   2.   3.   9.   5.  13.  14.  14.  10.   0.]\n",
        "[ 59.   3.  37.   5.  13.  26.  17.  22.   0.   0.]\n"
       ]
      }
     ],
     "prompt_number": 20
    },
    {
     "cell_type": "code",
     "collapsed": false,
     "input": [],
     "language": "python",
     "metadata": {},
     "outputs": []
    }
   ],
   "metadata": {}
  }
 ]
}