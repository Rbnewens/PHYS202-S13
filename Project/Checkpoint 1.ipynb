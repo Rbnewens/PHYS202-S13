{
 "metadata": {
  "name": "Checkpoint 1"
 },
 "nbformat": 3,
 "nbformat_minor": 0,
 "worksheets": [
  {
   "cells": [
    {
     "cell_type": "markdown",
     "metadata": {},
     "source": [
      "Checkpoint 1 for project 2"
     ]
    },
    {
     "cell_type": "code",
     "collapsed": false,
     "input": [
      "import numpy as np\n",
      "import math"
     ],
     "language": "python",
     "metadata": {},
     "outputs": [],
     "prompt_number": 1
    },
    {
     "cell_type": "code",
     "collapsed": false,
     "input": [
      "l = arange(1,41)\n",
      "n = 5 #5 cars\n"
     ],
     "language": "python",
     "metadata": {},
     "outputs": [],
     "prompt_number": 2
    },
    {
     "cell_type": "code",
     "collapsed": false,
     "input": [
      "x_0 = np.random.random(n)*40\n",
      "x = sort(x_0.round()) #position array\n",
      "v_0 = np.random.random(n)*70\n",
      "vmax = 70\n",
      "v = v_0.round() #velocity array\n",
      "g = np.zeros(5) #space infront"
     ],
     "language": "python",
     "metadata": {},
     "outputs": [],
     "prompt_number": 3
    },
    {
     "cell_type": "code",
     "collapsed": false,
     "input": [
      "def CA184(l,x,v):\n",
      "    \"\"\"Takes an array of car positions and velocities along with the road length as arguments. The function will return the array with the new positions and velocities after one time step\"\"\"\n",
      "    for i in range(n):\n",
      "        if i+1 < n: #calculating values of g\n",
      "            g[i] = int(x[i+1] -x[i]) #show how much space until next car\n",
      "        else:\n",
      "            g[i] = l - x[i] #if it is the last car, show how far to the end\n",
      "    for i in range(n):\n",
      "        if g[i] == 0:#no space in front\n",
      "            v[i] = 0 #car does not move\n",
      "        elif v[i] > g[i]:#if speed greater than space infont\n",
      "            g[i] = v[i] #slow down to v=g\n",
      "            x[i] += v[i] #position changes\n",
      "        elif v[i] < g[i] and v[i] < vmax:  #if speed less than space in front \n",
      "            v[i] = v[i] + 1 #increase speed by 1\n",
      "            x[i] += v[i] #position changes\n",
      "        if v[i] > 0: #if speed is greater than zero\n",
      "            v[i] = v[i] - 1 #allow random slowdowns\n",
      "      \n",
      "   \n",
      "    print 'new position:', x\n",
      "    print 'new velocity:', v\n",
      "    print 'space inbetween:',g"
     ],
     "language": "python",
     "metadata": {},
     "outputs": [],
     "prompt_number": 4
    },
    {
     "cell_type": "code",
     "collapsed": false,
     "input": [
      "#original positions and velocities\n",
      "print x\n",
      "print v\n",
      "print g"
     ],
     "language": "python",
     "metadata": {},
     "outputs": [
      {
       "output_type": "stream",
       "stream": "stdout",
       "text": [
        "[ 11.  11.  14.  14.  38.]\n",
        "[ 35.   7.   9.  63.  29.]\n",
        "[ 0.  0.  0.  0.  0.]\n"
       ]
      }
     ],
     "prompt_number": 5
    },
    {
     "cell_type": "code",
     "collapsed": false,
     "input": [
      "#new positions, velocities and space\n",
      "CA184(40,x,v)"
     ],
     "language": "python",
     "metadata": {},
     "outputs": [
      {
       "output_type": "stream",
       "stream": "stdout",
       "text": [
        "new position: [ 11.  18.  14.  77.  67.]\n",
        "new velocity: [  0.   6.   0.  62.  28.]\n",
        "space inbetween: [  0.   7.   0.  63.  29.]\n"
       ]
      }
     ],
     "prompt_number": 6
    },
    {
     "cell_type": "markdown",
     "metadata": {},
     "source": [
      "Again"
     ]
    },
    {
     "cell_type": "code",
     "collapsed": false,
     "input": [
      "print x\n",
      "print v\n",
      "print g\n",
      "CA184(40,x,v)"
     ],
     "language": "python",
     "metadata": {},
     "outputs": [
      {
       "output_type": "stream",
       "stream": "stdout",
       "text": [
        "[ 11.  18.  14.  77.  67.]\n",
        "[  0.   6.   0.  62.  28.]\n",
        "[  0.   7.   0.  63.  29.]\n",
        "new position: [  12.   24.   15.  139.   95.]\n",
        "new velocity: [  0.   5.   0.  61.  27.]\n",
        "space inbetween: [  7.   6.  63.  62.  28.]\n"
       ]
      }
     ],
     "prompt_number": 7
    },
    {
     "cell_type": "code",
     "collapsed": false,
     "input": [
      "#again\n",
      "print x\n",
      "print v\n",
      "print g\n",
      "CA184(40,x,v)"
     ],
     "language": "python",
     "metadata": {},
     "outputs": [
      {
       "output_type": "stream",
       "stream": "stdout",
       "text": [
        "[  12.   24.   15.  139.   95.]\n",
        "[  0.   5.   0.  61.  27.]\n",
        "[  7.   6.  63.  62.  28.]\n",
        "new position: [  13.   29.   16.  200.  122.]\n",
        "new velocity: [  0.   4.   0.  60.  26.]\n",
        "space inbetween: [  12.    5.  124.   61.   27.]\n"
       ]
      }
     ],
     "prompt_number": 8
    },
    {
     "cell_type": "markdown",
     "metadata": {},
     "source": [
      "looks good!!!!....i think"
     ]
    },
    {
     "cell_type": "markdown",
     "metadata": {},
     "source": [
      "Second Checkpoint"
     ]
    },
    {
     "cell_type": "code",
     "collapsed": false,
     "input": [
      "n=10#10cars\n",
      "x_2 = np.random.random(n)*200\n",
      "v_2 = np.random.random(n)*70\n",
      "x2 = sort(x_2.round())\n",
      "v2 = v_2.round()\n",
      "p = np.random.random(1)\n",
      "vmax = 70"
     ],
     "language": "python",
     "metadata": {},
     "outputs": [],
     "prompt_number": 12
    },
    {
     "cell_type": "code",
     "collapsed": false,
     "input": [
      "def STCA(x2,v2,l):\n",
      "    g=np.zeros(10)\n",
      "    l=200\n",
      "    for i in range(n):\n",
      "        if g[i] == 0:#no empty sites\n",
      "            v2[i] = 0#car does not move\n",
      "        elif v2[i] > g[i]:\n",
      "            v2[i] = g[i] #slow down to v=g\n",
      "            x2[i] += v2[i]\n",
      "        elif v2[i] < g[i] and v2[i] < vmax:\n",
      "            v2[i] += 1\n",
      "            for j in range(n):\n",
      "                if v2[j] < 0:\n",
      "                    v2[j] -= 1*p\n",
      "            x2[i] += v2[i]\n",
      "            if x2[i] > l:\n",
      "                x2[i] = x2[i] - l\n",
      "        for p in range(n):\n",
      "            if p < n - 1:\n",
      "                g[p] = abs(x2[p] - x2[p + 1])\n",
      "            else:\n",
      "                g[p] = l - x2[p] - 1\n",
      "    print x2\n",
      "    print v2\n",
      "    print g"
     ],
     "language": "python",
     "metadata": {},
     "outputs": [],
     "prompt_number": 13
    },
    {
     "cell_type": "code",
     "collapsed": false,
     "input": [
      "x2\n",
      "v2\n",
      "STCA(x2,v2,l)"
     ],
     "language": "python",
     "metadata": {},
     "outputs": [
      {
       "output_type": "stream",
       "stream": "stdout",
       "text": [
        "[   5.   22.   34.   44.   52.   81.   94.  109.  175.  199.]\n",
        "[  0.  11.  12.  10.   8.  29.  13.  15.  61.  10.]\n",
        "[ 17.  12.  10.   8.  29.  13.  15.  66.  24.   0.]\n"
       ]
      }
     ],
     "prompt_number": 14
    },
    {
     "cell_type": "code",
     "collapsed": false,
     "input": [],
     "language": "python",
     "metadata": {},
     "outputs": [],
     "prompt_number": 11
    }
   ],
   "metadata": {}
  }
 ]
}