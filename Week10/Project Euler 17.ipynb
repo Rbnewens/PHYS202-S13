{
 "metadata": {
  "name": "Project Euler 17"
 },
 "nbformat": 3,
 "nbformat_minor": 0,
 "worksheets": [
  {
   "cells": [
    {
     "cell_type": "markdown",
     "metadata": {},
     "source": [
      "#Project Euler 17"
     ]
    },
    {
     "cell_type": "markdown",
     "metadata": {},
     "source": [
      "If the numbers 1 to 5 are written out in words: one, two, three, four, five, then there are 3 + 3 + 5 + 4 + 4 = 19 letters used in total.\n",
      "\n",
      "If all the numbers from 1 to 1000 (one thousand) inclusive were written out in words, how many letters would be used?\n",
      "\n",
      "\n",
      "NOTE: Do not count spaces or hyphens. For example, 342 (three hundred and forty-two) contains 23 letters and 115 (one hundred and fifteen) contains 20 letters. The use of \"and\" when writing out numbers is in compliance with British usage."
     ]
    },
    {
     "cell_type": "code",
     "collapsed": false,
     "input": [
      "number = dict([(1,'one'), (2, 'two'), (3, 'three'),(4,'four'),(5,'five'),(6,'six'),(7,'seven'),(8,'eight'),(9,'nine'),(10,'ten'),(11,'eleven'),(12,'twelve'),(13,'thirteen'),(14,'fourteen'),(15,'fifteen'),(16,'sixteen'),(17,'seventeen'),(18,'eighteen'),(19,'nineteen'),(20,'twenty'),(30,'thirty'),(40,'forty'),(50,'fifty'),(60,'sixty'),(70,'seventy'),(80,'eighty'),(90,'ninety'),(100,'hundred')])"
     ],
     "language": "python",
     "metadata": {},
     "outputs": [],
     "prompt_number": 13
    },
    {
     "cell_type": "code",
     "collapsed": false,
     "input": [
      "def numbercounter(n):\n",
      "    sumcount = 0 \n",
      "    for i in range(1,n+1):\n",
      "        s = str(i) \n",
      "        if len(str(i)) == 1:# if one digit number\n",
      "            r = len(number[i])\n",
      "        elif len(str(i)) == 2 and i <= 20: #if two digit number under 20\n",
      "            r = len(number[i])\n",
      "        elif len(str(i)) == 2 and i > 20: #two digit number over 20\n",
      "            s1 = s[0:1] # seperate digits\n",
      "            s2 = s[1:2]\n",
      "            if s2 == '0':\n",
      "                r = len(number[i])\n",
      "            else:\n",
      "                s1_0 = str(s1 + '0') \n",
      "                r = len(number[int(s1_0)]) + len(number[int(s2)])\n",
      "        elif len(str(i)) == 3: # for three digit numbers\n",
      "            s1 = s[0:1]# seperate digits\n",
      "            s2 = s[1:2]\n",
      "            s3 = s[2:3]\n",
      "           \n",
      "            if s2 == '0' and s3 =='0': #for the hundreds\n",
      "                r = len(number[int(s1)])+ len('hundred')\n",
      "            \n",
      "            elif s2 == '0' and s3 != '0': #hundreds plus ones\n",
      "                r = len(number[int(s1)]) + len('hundred') + len('and') + len(number[int(s3)])\n",
      "            \n",
      "            elif s2 !='0' and s3 == '0': #hundreds plus tens\n",
      "                s2_0 = str(s2 + '0')\n",
      "                r = len(number[int(s1)]) + len('hundred') + len('and') + len(number[int(s2_0)])\n",
      "            \n",
      "            elif s2 == '1' and s3 != '0':\n",
      "                s2_3 = str(s2 + s3)\n",
      "                r = len(number[int(s1)]) + len('hundred') + len('and') + len(number[int(s2_3)])\n",
      "           \n",
      "            else:\n",
      "                s2_0 = str(s2 + '0')\n",
      "                r = len(number[int(s1)]) + len('hundred') + len('and') + len(number[int(s2_0)]) + len(number[int(s3)])\n",
      "        elif len(str(i)) == 4:\n",
      "            s1 = s[0:1]# seperate digits\n",
      "            s2 = s[1:2]\n",
      "            s3 = s[2:3]\n",
      "            s4 = s[3:4]\n",
      "            \n",
      "            r = len(number[int(s1)]) + len('thousand') #up to one thousand\n",
      "        sumcount = sumcount + r #total sumcount\n",
      "    return sumcount"
     ],
     "language": "python",
     "metadata": {},
     "outputs": [],
     "prompt_number": 35
    },
    {
     "cell_type": "code",
     "collapsed": false,
     "input": [
      "numbercounter(5)\n",
      "#test case: matches answer in question"
     ],
     "language": "python",
     "metadata": {},
     "outputs": [
      {
       "output_type": "pyout",
       "prompt_number": 42,
       "text": [
        "19"
       ]
      }
     ],
     "prompt_number": 42
    },
    {
     "cell_type": "code",
     "collapsed": false,
     "input": [
      "numbercounter(342)\n",
      "#test case"
     ],
     "language": "python",
     "metadata": {},
     "outputs": [
      {
       "output_type": "pyout",
       "prompt_number": 43,
       "text": [
        "6117"
       ]
      }
     ],
     "prompt_number": 43
    },
    {
     "cell_type": "code",
     "collapsed": false,
     "input": [
      "numbercounter(115)\n",
      "#test case"
     ],
     "language": "python",
     "metadata": {},
     "outputs": [
      {
       "output_type": "pyout",
       "prompt_number": 44,
       "text": [
        "1133"
       ]
      }
     ],
     "prompt_number": 44
    },
    {
     "cell_type": "code",
     "collapsed": false,
     "input": [
      "numbercounter(1000)"
     ],
     "language": "python",
     "metadata": {},
     "outputs": [
      {
       "output_type": "pyout",
       "prompt_number": 45,
       "text": [
        "21124"
       ]
      }
     ],
     "prompt_number": 45
    },
    {
     "cell_type": "markdown",
     "metadata": {},
     "source": [
      "For numbers 1-1000, the sum of their spelled letters is 21124"
     ]
    },
    {
     "cell_type": "code",
     "collapsed": false,
     "input": [],
     "language": "python",
     "metadata": {},
     "outputs": []
    }
   ],
   "metadata": {}
  }
 ]
}